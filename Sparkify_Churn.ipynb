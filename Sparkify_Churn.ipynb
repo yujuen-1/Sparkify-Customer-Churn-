{
 "cells": [
  {
   "cell_type": "code",
   "execution_count": 0,
   "metadata": {
    "application/vnd.databricks.v1+cell": {
     "cellMetadata": {
      "byteLimit": 2048000,
      "rowLimit": 10000
     },
     "inputWidgets": {},
     "nuid": "bc0fbae9-2821-4a2a-9d7b-addf1ab5efd3",
     "showTitle": false,
     "title": ""
    }
   },
   "outputs": [
    {
     "output_type": "display_data",
     "data": {
      "text/html": [
       "<style scoped>\n  .ansiout {\n    display: block;\n    unicode-bidi: embed;\n    white-space: pre-wrap;\n    word-wrap: break-word;\n    word-break: break-all;\n    font-family: \"Source Code Pro\", \"Menlo\", monospace;;\n    font-size: 13px;\n    color: #555;\n    margin-left: 4px;\n    line-height: 19px;\n  }\n</style>\n<div class=\"ansiout\"></div>"
      ]
     },
     "metadata": {
      "application/vnd.databricks.v1+output": {
       "addedWidgets": {},
       "arguments": {},
       "data": "<div class=\"ansiout\"></div>",
       "datasetInfos": [],
       "metadata": {},
       "removedWidgets": [],
       "type": "html"
      }
     },
     "output_type": "display_data"
    }
   ],
   "source": [
    "# import libraries\n",
    "from pyspark.sql import SparkSession\n",
    "from pyspark.sql.functions import col, lit, udf, isnan, count, when, desc, sort_array, asc, avg, lag, floor, split\n",
    "from pyspark.sql.window import Window\n",
    "from pyspark.sql.types import IntegerType, DateType\n",
    "from pyspark.sql.functions import sum as Fsum\n",
    "import datetime"
   ]
  },
  {
   "cell_type": "markdown",
   "metadata": {
    "application/vnd.databricks.v1+cell": {
     "cellMetadata": {
      "byteLimit": 2048000,
      "rowLimit": 10000
     },
     "inputWidgets": {},
     "nuid": "7f349add-6266-4ea1-afaa-f75321caaaa3",
     "showTitle": false,
     "title": ""
    }
   },
   "source": [
    "### Load Data\n",
    "\n",
    "The data contains info below: \n",
    "\n",
    "-artist : artist being listened\\\n",
    "-auth : user log in/out\\\n",
    "-firstName : name of customer\\\n",
    "-gender : gender of customer\\\n",
    "-itemInSession : item in session\\\n",
    "-lastName : surname of customer\\\n",
    "-length : length of time for specific log\\\n",
    "-level : free or paid subsrciption\\ \n",
    "-location : city and state in which customer use service\\\n",
    "-method : get and put methods\\\n",
    "-page : which page event which customers perform\\\n",
    "-registration : user registration date\\\n",
    "-sessionId : session id of user\\\n",
    "-song : song which customer listen\\\n",
    "-status : web status\\\n",
    "-ts : time stamp of event log\\\n",
    "-userAgent : browser and machine details of customer\\\n",
    "-userId : customer/ user ID\\"
   ]
  },
  {
   "cell_type": "code",
   "execution_count": 0,
   "metadata": {
    "application/vnd.databricks.v1+cell": {
     "cellMetadata": {
      "byteLimit": 2048000,
      "rowLimit": 10000
     },
     "inputWidgets": {},
     "nuid": "5f0fdae3-9452-465c-b92f-fd1f03b9033a",
     "showTitle": false,
     "title": ""
    }
   },
   "outputs": [
    {
     "output_type": "display_data",
     "data": {
      "text/html": [
       "<style scoped>\n  .ansiout {\n    display: block;\n    unicode-bidi: embed;\n    white-space: pre-wrap;\n    word-wrap: break-word;\n    word-break: break-all;\n    font-family: \"Source Code Pro\", \"Menlo\", monospace;;\n    font-size: 13px;\n    color: #555;\n    margin-left: 4px;\n    line-height: 19px;\n  }\n</style>\n<div class=\"ansiout\"></div>"
      ]
     },
     "metadata": {
      "application/vnd.databricks.v1+output": {
       "addedWidgets": {},
       "arguments": {},
       "data": "<div class=\"ansiout\"></div>",
       "datasetInfos": [],
       "metadata": {},
       "removedWidgets": [],
       "type": "html"
      }
     },
     "output_type": "display_data"
    }
   ],
   "source": [
    "data = spark.read.format(\"json\").load(\"dbfs:/FileStore/shared_uploads/e0926898@u.nus.edu/mini_sparkify_event_data.json\")"
   ]
  },
  {
   "cell_type": "code",
   "execution_count": 0,
   "metadata": {
    "application/vnd.databricks.v1+cell": {
     "cellMetadata": {
      "byteLimit": 2048000,
      "implicitDf": true,
      "rowLimit": 10000
     },
     "inputWidgets": {},
     "nuid": "a7d04c06-c757-4fcd-a939-767f6164039b",
     "showTitle": false,
     "title": ""
    }
   },
   "outputs": [
    {
     "output_type": "display_data",
     "data": {
      "text/html": [
       "<style scoped>\n  .ansiout {\n    display: block;\n    unicode-bidi: embed;\n    white-space: pre-wrap;\n    word-wrap: break-word;\n    word-break: break-all;\n    font-family: \"Source Code Pro\", \"Menlo\", monospace;;\n    font-size: 13px;\n    color: #555;\n    margin-left: 4px;\n    line-height: 19px;\n  }\n</style>\n<div class=\"ansiout\"></div>"
      ]
     },
     "metadata": {
      "application/vnd.databricks.v1+output": {
       "addedWidgets": {},
       "arguments": {},
       "data": "<div class=\"ansiout\"></div>",
       "datasetInfos": [],
       "metadata": {},
       "removedWidgets": [],
       "type": "html"
      }
     },
     "output_type": "display_data"
    }
   ],
   "source": [
    "df = data.where((data.userId != \"\") | (data.sessionId != \"\"))"
   ]
  },
  {
   "cell_type": "markdown",
   "metadata": {
    "application/vnd.databricks.v1+cell": {
     "cellMetadata": {
      "byteLimit": 2048000,
      "rowLimit": 10000
     },
     "inputWidgets": {},
     "nuid": "9848b4ea-b9a3-4b76-b4da-d5fac1d1dc41",
     "showTitle": false,
     "title": ""
    }
   },
   "source": [
    "##### Define Churn and Downgraded Users \n",
    "\n",
    "The data is extracted from \"page\" column"
   ]
  },
  {
   "cell_type": "code",
   "execution_count": 0,
   "metadata": {
    "application/vnd.databricks.v1+cell": {
     "cellMetadata": {
      "byteLimit": 2048000,
      "rowLimit": 10000
     },
     "inputWidgets": {},
     "nuid": "4a579f43-f92a-4ea1-bfc4-323b28396cac",
     "showTitle": false,
     "title": ""
    }
   },
   "outputs": [
    {
     "output_type": "display_data",
     "data": {
      "text/html": [
       "<style scoped>\n  .ansiout {\n    display: block;\n    unicode-bidi: embed;\n    white-space: pre-wrap;\n    word-wrap: break-word;\n    word-break: break-all;\n    font-family: \"Source Code Pro\", \"Menlo\", monospace;;\n    font-size: 13px;\n    color: #555;\n    margin-left: 4px;\n    line-height: 19px;\n  }\n</style>\n<div class=\"ansiout\"></div>"
      ]
     },
     "metadata": {
      "application/vnd.databricks.v1+output": {
       "addedWidgets": {},
       "arguments": {},
       "data": "<div class=\"ansiout\"></div>",
       "datasetInfos": [],
       "metadata": {},
       "removedWidgets": [],
       "type": "html"
      }
     },
     "output_type": "display_data"
    }
   ],
   "source": [
    "churn = udf(lambda x: int(x==\"Cancellation Confirmation\"), IntegerType())\n",
    "downgrade_churn = udf(lambda x: int(x==\"Submit Downgrade\"), IntegerType())\n",
    "df = df.withColumn(\"downgraded\", downgrade_churn(\"page\")).withColumn(\"cancelled\", churn(\"page\"))\n"
   ]
  },
  {
   "cell_type": "markdown",
   "metadata": {
    "application/vnd.databricks.v1+cell": {
     "cellMetadata": {
      "byteLimit": 2048000,
      "rowLimit": 10000
     },
     "inputWidgets": {},
     "nuid": "fe8544c7-66bd-4332-be0e-45e3e5c4cf47",
     "showTitle": false,
     "title": ""
    }
   },
   "source": [
    "##### Create City and State Column\n",
    "\n",
    "The data is extracted from location\" column"
   ]
  },
  {
   "cell_type": "code",
   "execution_count": 0,
   "metadata": {
    "application/vnd.databricks.v1+cell": {
     "cellMetadata": {
      "byteLimit": 2048000,
      "rowLimit": 10000
     },
     "inputWidgets": {},
     "nuid": "688a6c8b-a7b4-4719-ba97-96d76bd905d6",
     "showTitle": false,
     "title": ""
    }
   },
   "outputs": [
    {
     "output_type": "display_data",
     "data": {
      "text/html": [
       "<style scoped>\n  .ansiout {\n    display: block;\n    unicode-bidi: embed;\n    white-space: pre-wrap;\n    word-wrap: break-word;\n    word-break: break-all;\n    font-family: \"Source Code Pro\", \"Menlo\", monospace;;\n    font-size: 13px;\n    color: #555;\n    margin-left: 4px;\n    line-height: 19px;\n  }\n</style>\n<div class=\"ansiout\"></div>"
      ]
     },
     "metadata": {
      "application/vnd.databricks.v1+output": {
       "addedWidgets": {},
       "arguments": {},
       "data": "<div class=\"ansiout\"></div>",
       "datasetInfos": [],
       "metadata": {},
       "removedWidgets": [],
       "type": "html"
      }
     },
     "output_type": "display_data"
    }
   ],
   "source": [
    "split_col = split(df['location'], ',')\n",
    "df = df.withColumn('City', split_col.getItem(0))\n",
    "df = df.withColumn('State', split_col.getItem(1))"
   ]
  },
  {
   "cell_type": "markdown",
   "metadata": {
    "application/vnd.databricks.v1+cell": {
     "cellMetadata": {
      "byteLimit": 2048000,
      "rowLimit": 10000
     },
     "inputWidgets": {},
     "nuid": "35a6e064-be68-4e81-897d-234dc70532c1",
     "showTitle": false,
     "title": ""
    }
   },
   "source": [
    "### Data Analysis/ Visualisation"
   ]
  },
  {
   "cell_type": "markdown",
   "metadata": {
    "application/vnd.databricks.v1+cell": {
     "cellMetadata": {
      "byteLimit": 2048000,
      "rowLimit": 10000
     },
     "inputWidgets": {},
     "nuid": "d7be90d5-91f7-4ef4-9288-df0b36a4b618",
     "showTitle": false,
     "title": ""
    }
   },
   "source": [
    "##### 1. Explore in SQL"
   ]
  },
  {
   "cell_type": "code",
   "execution_count": 0,
   "metadata": {
    "application/vnd.databricks.v1+cell": {
     "cellMetadata": {
      "byteLimit": 2048000,
      "rowLimit": 10000
     },
     "inputWidgets": {},
     "nuid": "bb38f889-5c3a-4de9-8bf7-4c000853695c",
     "showTitle": false,
     "title": ""
    }
   },
   "outputs": [
    {
     "output_type": "display_data",
     "data": {
      "text/html": [
       "<style scoped>\n  .ansiout {\n    display: block;\n    unicode-bidi: embed;\n    white-space: pre-wrap;\n    word-wrap: break-word;\n    word-break: break-all;\n    font-family: \"Source Code Pro\", \"Menlo\", monospace;;\n    font-size: 13px;\n    color: #555;\n    margin-left: 4px;\n    line-height: 19px;\n  }\n</style>\n<div class=\"ansiout\"></div>"
      ]
     },
     "metadata": {
      "application/vnd.databricks.v1+output": {
       "addedWidgets": {},
       "arguments": {},
       "data": "<div class=\"ansiout\"></div>",
       "datasetInfos": [],
       "metadata": {},
       "removedWidgets": [],
       "type": "html"
      }
     },
     "output_type": "display_data"
    }
   ],
   "source": [
    "df.createOrReplaceTempView(\"Sparkify_df\")"
   ]
  },
  {
   "cell_type": "code",
   "execution_count": 0,
   "metadata": {
    "application/vnd.databricks.v1+cell": {
     "cellMetadata": {
      "byteLimit": 2048000,
      "implicitDf": true,
      "rowLimit": 10000
     },
     "inputWidgets": {},
     "nuid": "b82e2905-8446-4bf4-8c19-cda43ff52d71",
     "showTitle": false,
     "title": ""
    }
   },
   "outputs": [
    {
     "output_type": "display_data",
     "data": {
      "text/html": [
       "<style scoped>\n  .table-result-container {\n    max-height: 300px;\n    overflow: auto;\n  }\n  table, th, td {\n    border: 1px solid black;\n    border-collapse: collapse;\n  }\n  th, td {\n    padding: 5px;\n  }\n  th {\n    text-align: left;\n  }\n</style><div class='table-result-container'><table class='table-result'><thead style='background-color: white'><tr><th>gender</th><th>user_counts</th></tr></thead><tbody><tr><td>M</td><td>121</td></tr><tr><td>F</td><td>104</td></tr></tbody></table></div>"
      ]
     },
     "metadata": {
      "application/vnd.databricks.v1+output": {
       "addedWidgets": {},
       "aggData": [],
       "aggError": "",
       "aggOverflow": false,
       "aggSchema": [],
       "aggSeriesLimitReached": false,
       "aggType": "",
       "arguments": {},
       "columnCustomDisplayInfos": {},
       "data": [
        [
         "M",
         121
        ],
        [
         "F",
         104
        ]
       ],
       "datasetInfos": [],
       "dbfsResultPath": null,
       "isJsonSchema": true,
       "metadata": {},
       "overflow": false,
       "plotOptions": {
        "customPlotOptions": {},
        "displayType": "table",
        "pivotAggregation": null,
        "pivotColumns": null,
        "xColumns": null,
        "yColumns": null
       },
       "removedWidgets": [],
       "schema": [
        {
         "metadata": "{}",
         "name": "gender",
         "type": "\"string\""
        },
        {
         "metadata": "{}",
         "name": "user_counts",
         "type": "\"long\""
        }
       ],
       "type": "table"
      }
     },
     "output_type": "display_data"
    }
   ],
   "source": [
    "%sql\n",
    "\n",
    "SELECT gender,COUNT(DISTINCT userId) AS user_counts\n",
    "FROM Sparkify_df\n",
    "GROUP BY gender\n",
    "ORDER BY user_counts DESC;\n"
   ]
  },
  {
   "cell_type": "code",
   "execution_count": 0,
   "metadata": {
    "application/vnd.databricks.v1+cell": {
     "cellMetadata": {
      "byteLimit": 2048000,
      "implicitDf": true,
      "rowLimit": 10000
     },
     "inputWidgets": {},
     "nuid": "7688f061-6ab2-491c-aec1-46308d5e7aea",
     "showTitle": false,
     "title": ""
    }
   },
   "outputs": [
    {
     "output_type": "display_data",
     "data": {
      "text/html": [
       "<style scoped>\n  .table-result-container {\n    max-height: 300px;\n    overflow: auto;\n  }\n  table, th, td {\n    border: 1px solid black;\n    border-collapse: collapse;\n  }\n  th, td {\n    padding: 5px;\n  }\n  th {\n    text-align: left;\n  }\n</style><div class='table-result-container'><table class='table-result'><thead style='background-color: white'><tr><th>page</th><th>user_counts</th></tr></thead><tbody><tr><td>NextSong</td><td>228108</td></tr><tr><td>Thumbs Up</td><td>12551</td></tr><tr><td>Home</td><td>10082</td></tr><tr><td>Add to Playlist</td><td>6526</td></tr><tr><td>Add Friend</td><td>4277</td></tr><tr><td>Roll Advert</td><td>3933</td></tr><tr><td>Logout</td><td>3226</td></tr><tr><td>Thumbs Down</td><td>2546</td></tr><tr><td>Downgrade</td><td>2055</td></tr><tr><td>Settings</td><td>1514</td></tr><tr><td>Help</td><td>1454</td></tr><tr><td>Upgrade</td><td>499</td></tr><tr><td>About</td><td>495</td></tr><tr><td>Save Settings</td><td>310</td></tr><tr><td>Error</td><td>252</td></tr><tr><td>Submit Upgrade</td><td>159</td></tr><tr><td>Submit Downgrade</td><td>63</td></tr><tr><td>Cancel</td><td>52</td></tr><tr><td>Cancellation Confirmation</td><td>52</td></tr></tbody></table></div>"
      ]
     },
     "metadata": {
      "application/vnd.databricks.v1+output": {
       "addedWidgets": {},
       "aggData": [],
       "aggError": "",
       "aggOverflow": false,
       "aggSchema": [],
       "aggSeriesLimitReached": false,
       "aggType": "",
       "arguments": {},
       "columnCustomDisplayInfos": {},
       "data": [
        [
         "NextSong",
         228108
        ],
        [
         "Thumbs Up",
         12551
        ],
        [
         "Home",
         10082
        ],
        [
         "Add to Playlist",
         6526
        ],
        [
         "Add Friend",
         4277
        ],
        [
         "Roll Advert",
         3933
        ],
        [
         "Logout",
         3226
        ],
        [
         "Thumbs Down",
         2546
        ],
        [
         "Downgrade",
         2055
        ],
        [
         "Settings",
         1514
        ],
        [
         "Help",
         1454
        ],
        [
         "Upgrade",
         499
        ],
        [
         "About",
         495
        ],
        [
         "Save Settings",
         310
        ],
        [
         "Error",
         252
        ],
        [
         "Submit Upgrade",
         159
        ],
        [
         "Submit Downgrade",
         63
        ],
        [
         "Cancel",
         52
        ],
        [
         "Cancellation Confirmation",
         52
        ]
       ],
       "datasetInfos": [],
       "dbfsResultPath": null,
       "isJsonSchema": true,
       "metadata": {},
       "overflow": false,
       "plotOptions": {
        "customPlotOptions": {},
        "displayType": "table",
        "pivotAggregation": null,
        "pivotColumns": null,
        "xColumns": null,
        "yColumns": null
       },
       "removedWidgets": [],
       "schema": [
        {
         "metadata": "{}",
         "name": "page",
         "type": "\"string\""
        },
        {
         "metadata": "{}",
         "name": "user_counts",
         "type": "\"long\""
        }
       ],
       "type": "table"
      }
     },
     "output_type": "display_data"
    }
   ],
   "source": [
    "%sql\n",
    "\n",
    "SELECT page,COUNT(userId) AS user_counts\n",
    "FROM Sparkify_df\n",
    "GROUP BY page\n",
    "ORDER BY user_counts DESC;"
   ]
  },
  {
   "cell_type": "markdown",
   "metadata": {
    "application/vnd.databricks.v1+cell": {
     "cellMetadata": {
      "byteLimit": 2048000,
      "rowLimit": 10000
     },
     "inputWidgets": {},
     "nuid": "0bc7a627-6bf1-4d2f-aaa3-4008e33c49a0",
     "showTitle": false,
     "title": ""
    }
   },
   "source": [
    "##### 2. Visualisation using Pandas/ Seaborn"
   ]
  },
  {
   "cell_type": "code",
   "execution_count": 0,
   "metadata": {
    "application/vnd.databricks.v1+cell": {
     "cellMetadata": {
      "byteLimit": 2048000,
      "rowLimit": 10000
     },
     "inputWidgets": {},
     "nuid": "12f9d8e5-402d-4940-a580-1ca1e2b8578b",
     "showTitle": false,
     "title": ""
    }
   },
   "outputs": [
    {
     "output_type": "display_data",
     "data": {
      "image/png": "[encoded data removed]"
     },
     "metadata": {
      "application/vnd.databricks.v1+output": {
       "addedWidgets": {},
       "arguments": {},
       "data": "data:image/png;base64,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",
       "datasetInfos": [],
       "metadata": {
        "imageDimensions": {
         "height": 282,
         "width": 381
        }
       },
       "removedWidgets": [],
       "type": "image"
      },
      "image/png": {
       "height": 282,
       "width": 381
      }
     },
     "output_type": "display_data"
    }
   ],
   "source": [
    "import seaborn as sns\n",
    "import matplotlib.pyplot as plt\n",
    "import pandas as pd\n",
    "\n",
    "windowval = Window.partitionBy(\"userId\").orderBy(desc(\"ts\")).rangeBetween(Window.unboundedPreceding, 0)\n",
    "song=udf(lambda x : int(x=='NextSong'), IntegerType())\n",
    "df = df.withColumn(\"churn_phase\", Fsum(\"cancelled\").over(windowval))\\\n",
    "    .withColumn(\"downgrade_phase\", Fsum(\"downgraded\").over(windowval))\n",
    "\n",
    "song_play_pd = df.filter(col('churn_phase')==1).withColumn('songPlayed', song(col('page')))\\\n",
    ".groupBy('userId').count().toPandas()\n",
    "\n",
    "song_play_0_pd = df.filter(col('churn_phase')==0).withColumn('songPlayed', song(col('page')))\\\n",
    ".groupBy('userId').count().toPandas()\n",
    "\n",
    "song_play_0_pd.columns=['userId', 'noChurn']\n",
    "song_play_pd.columns=['userId', 'churn']\n",
    "\n",
    "ax = sns.boxplot(data=pd.concat([song_play_0_pd['noChurn'], song_play_pd['churn']], axis=1), showfliers=False)\n",
    "sns.set_context(\"notebook\", font_scale=1.5, rc={\"lines.linewidth\": 2.5})\n",
    "ax.set(xlabel='User Type', title='Songs Played');"
   ]
  },
  {
   "cell_type": "code",
   "execution_count": 0,
   "metadata": {
    "application/vnd.databricks.v1+cell": {
     "cellMetadata": {
      "byteLimit": 2048000,
      "rowLimit": 10000
     },
     "inputWidgets": {},
     "nuid": "a500d894-f334-417a-bcc2-0d272c475497",
     "showTitle": false,
     "title": ""
    }
   },
   "outputs": [
    {
     "output_type": "display_data",
     "data": {
      "image/png": "[encoded data removed]"
     },
     "metadata": {
      "application/vnd.databricks.v1+output": {
       "addedWidgets": {},
       "arguments": {},
       "data": "data:image/png;base64,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",
       "datasetInfos": [],
       "metadata": {
        "imageDimensions": {
         "height": 279,
         "width": 423
        }
       },
       "removedWidgets": [],
       "type": "image"
      },
      "image/png": {
       "height": 279,
       "width": 423
      }
     },
     "output_type": "display_data"
    }
   ],
   "source": [
    "#number of users to cancel w/o downgrade\n",
    "cancel = df.select(['userId', 'downgraded', 'cancelled'])\\\n",
    "    .groupBy('userId').sum()\\\n",
    "    .withColumnRenamed('sum(downgraded)', 'downgraded')\\\n",
    "    .withColumnRenamed('sum(cancelled)', 'cancelled')\\\n",
    "    .filter((col(\"downgraded\")==0)&(col(\"cancelled\")==1))\\\n",
    "    .count()\n",
    "downgrade_paid = df.filter((col('cancelled')==1) & (col('downgraded')==0) & (col('level')=='paid'))\\\n",
    "      .select('userId').dropDuplicates().count()\n",
    "\n",
    "ax = sns.barplot(data=pd.DataFrame({'cancelled':[cancel], 'cancelled w/o downgrade':[downgrade_paid]}))\n",
    "ax.set(title='User Who Cancelled', ylabel='# users')\n",
    "sns.set_context(\"notebook\", font_scale=1.5, rc={\"lines.linewidth\": 2.5});"
   ]
  },
  {
   "cell_type": "code",
   "execution_count": 0,
   "metadata": {
    "application/vnd.databricks.v1+cell": {
     "cellMetadata": {
      "byteLimit": 2048000,
      "rowLimit": 10000
     },
     "inputWidgets": {},
     "nuid": "fb0be70d-c594-436e-bf8d-9ecbbcc23eb0",
     "showTitle": false,
     "title": ""
    }
   },
   "outputs": [
    {
     "output_type": "display_data",
     "data": {
      "image/png": "[encoded data removed]"
     },
     "metadata": {
      "application/vnd.databricks.v1+output": {
       "addedWidgets": {},
       "arguments": {},
       "data": "data:image/png;base64,iVBORw0KGgoAAAANSUhEUgAAAYkAAAEhCAYAAACKklw+AAAAOXRFWHRTb2Z0d2FyZQBNYXRwbG90bGliIHZlcnNpb24zLjQuMiwgaHR0cHM6Ly9tYXRwbG90bGliLm9yZy8rg+JYAAAACXBIWXMAAAsTAAALEwEAmpwYAAA93klEQVR4nO3de1zO5//A8VelEx3IOSxEhZJyNrGc5jCEGUOziQ2THGaEb1sbYjmLzGFbYjM55zSztTlkzkxoJomEHNdJd4f7/v3h595udXMnnd/PPe7HY/d1XZ/P5/25S+/7uq7P5/roqVQqFUIIIUQu9Is6ACGEEMWXJAkhhBBaSZIQQgihlSQJIYQQWkmSEEIIoZUkCSGEEFpJkigA8fHx2Nvbc/LkyXztx9PTkxkzZryiqEqnY8eOYW9vz+3bt4s6lFcuKysLX19fWrdujb29PceOHXsl++3UqRMrVqx4JfsSZYCqjJk6dapq+PDhBXqMrKwsVWJioiojI0On9suXL1e5u7vnKH/48KEqOTn5peO4ceOGys7OTv1ycXFReXh4qLZt2/bS+yxuFAqFKjExUZWdnV0ox3vw4IFq3rx5qm7duqkcHR1Vbdq0UQ0ZMkS1bds2VWZm5is91u7du1WOjo6qU6dOqRITE1UKheKV7Pf+/fuq1NTUV7Kv5/njjz9UdnZ2qiZNmqju37+vUZeRkaFq27atys7OTrV9+3Z1eaNGjVRbtmwp8NiE7soVdZIqjQwMDKhatWq+91OxYsX8BwOsWLGCpk2bkpaWxu7du5k6dSpVqlShffv2r2T/2mRkZGBkZFSgxzAyMnoln7Uubt26xZAhQzAwMGD8+PE0btyYcuXKcebMGdauXYu9vT2NGjV6Zce7du0a1atXx9XV9ZXtE8DKyuqV7u9Fqlatyo4dO/jggw/UZT///DMmJiaFGod4OTLc9IyrV6/y4Ycf4uLigouLC6NHjyYuLk6jza5du+jSpQtOTk4MHjyYiIgIjeGl3IabVq5cSefOnXF0dKRNmzZ4eXmRnp7O1q1bWbJkCTdv3sTe3h57e3uWLVsG5D7ctGHDBnr27ImjoyNt27bF29v7hedkaWlJ1apVsbGxYezYsVSsWJHDhw+r61NTU5k1axZubm44Ozvj4eHB/v37NfZx8eJF3nnnHRwdHenWrRt79+7NMWxhb2/PunXrmDx5Ms2bN+fTTz8F4MiRIwwePJimTZvi5uaGr68vDx8+VG/3999/4+XlRYsWLWjWrBk9evRg+/bt6vqwsDB69OiBk5MTrVq1YujQoerhpdyGm86ePcvQoUNp2rQpLVu2ZPLkydy/f19dv2zZMrp27cqBAwfo3r07zZo1w9PTk2vXrj33c/T39ycjI4Nt27bRp08fGjRoQN26denXrx9bt27FxsYGgMzMTObPn4+bmxuOjo707NmT8PBwjX3Z29uzYcMGpkyZgouLCx06dODrr79W13t6erJkyRJu3LiBvb09nTp1Upc/+zuxYsUKdb0un+ezP7eUlBT8/Pxo06YNjo6O9O/fX+P34+nv8549e/joo49wdnamc+fObN269bmf11MDBgwgLCxMo2zTpk0MGDBAo6xTp05kZ2fj6+ur/rcA8Pnnn9OpUyeSkpLUbX19fXnzzTdJTU3VKQbx8iRJ/Ed6ejpeXl4oFApCQ0MJDQ0lNTWVkSNHkpGRAUBUVBSffPIJvXr1YseOHYwcOZI5c+Y8d7/79+9n1apVzJgxg/379/Ptt9/i5uYGQM+ePRk1ahQ1atTg8OHDHD58mBEjRuS6n6VLlzJ//nyGDBlCeHg4a9asoXHjxjqfX3Z2Nrt37+bRo0cYGhoCoFKpGD16NH/99ReLFi1i165dvPvuu0yaNImjR48C8PjxYz788EOsrKzYvHkzX331FSEhIRp/eJ9avnw5Li4ubNu2jQkTJnD06FHGjh1Lr1692LlzJ8uXLyc+Ph5vb29U/78izKRJk6hYsSIbN24kPDycadOmYWlpqf68P/vsMz766CP27dtHaGgoHh4eWs/x7t27jBgxgho1ahAWFkZwcDCXL19m/PjxOdr98MMPzJ8/n40bN5Kamsr06dO17vfRo0f8/vvvDB06FHNz8xz1hoaGlC9fHoCFCxcSFhbG9OnTCQ8Pp0+fPkyZMkX9ef73s2rZsiU7duzgo48+YuHCheo2y5YtY8SIEdSqVYvDhw+zefNmrbE963mfZ26mT5/O4cOHCQwMZMeOHbi6ujJ69GhiYmI02i1YsIC+ffuyc+dOevXqxcyZM4mNjX1hPL169eLOnTvqL03Xr1/nxIkTvP322xrtNm/ejIGBgTqep4nK19eXChUqMHPmTADCw8MJDw9n0aJFVKhQQefPRbwcGW76j/DwcB48eMCWLVvUXfJFixbRqVMn9uzZg4eHB99++y2urq5MnDgRgPr163P37l0+//xzrftNSEigatWquLm5YWhoiLW1tcawRPny5V84RJWWlsaaNWvw8fFh2LBh6vImTZq88Ly8vLzQ19dHoVCQnZ2NlZUV77zzDgDHjx/n7NmzREZGqv/4DRo0iLNnzxIaGkrbtm0JDw8nNTWVwMBAdZvZs2fTs2fPHMfq3LmzRnz/+9//8PT0xNPTU102b9483N3diY6OplGjRiQkJPDBBx/QoEEDAOrUqaNue+vWLUxNTenSpQtmZmYA6m+YudmwYQNmZmYEBASoh7oCAwPp27cvJ06coGXLlsCTobDAwED1z3nkyJFMmjQJhUKBsbFxjv1ev34dpVKpjlGbx48fExoaiq+vLz169ABg9OjRnD9/nuDgYNq2batu27NnT/XPYejQoaxfv57IyEjatm1LxYoVdfq9yM3zPs9nxcXF8dNPP7Fq1Sr1F5eZM2dy6tQp1qxZQ0BAgLrtsGHD1D9zHx8fQkNDOXbsGPXq1XtuPKampvTu3ZuwsDBatGjBpk2bcHNzo3r16hrtnv4szM3NNc7Z2NiYxYsXM2DAABYsWKDugeXlC5J4edKT+I8rV65ga2urMWZbpUoV6tWrx99//w1ATEwMzs7OGtu5uLg8d789evQgMzMTd3d3pk2bxvbt20lJSclzbAqFgtdffz1P2wEEBASwfft2Vq9ejZ2dHZ9//rn6D8f58+fJzMykQ4cO6iE2FxcXwsPD1cNsV65coX79+hrfoG1tbbGwsMhxrKZNm2q8P3/+PCEhIRr77tWrF4B6eGfEiBHMnDkTT09Pli1bxoULF9Tbt2vXjjp16tC5c2cmTpzIjz/+yIMHD577OTVr1kxjLsTBwQFzc3P1zxCgWrVqGj/natWqoVKpcu0dAepez4vExcWRmZmpTkZPtWzZkitXrmiUOTg4aLyvVq0a9+7d0+k4z/O8z/NZT2Nq0aKFRnmLFi2eG6+BgQGVK1fWOd5Bgwaxb98+Hjx4wLZt29TJUVe2trZ8+umnrFq1iubNmzN8+PA8bS9envQkXoKenl6e2levXp19+/bxxx9/8McffxAcHMz8+fMJCwujZs2aBRTlv6pVq4aNjQ02NjYsXryYd955Bzs7O+rVq4dSqcTc3DzX4YynQ1Kg+zmbmppqvFcqlYwaNYq+ffvmaFulShUAPv74Y/r06cPBgwc5duwYX3/9NV5eXkycOJEKFSqwZcsWTp8+TWRkJBs3biQwMJDvvvsOR0fHvHwMWs/t2XhzY2Njg76+PleuXKFbt24vfdznxaCnp/fCZJRbm6ysLI33z/s8Czvepxo1akTDhg2ZNGkSBgYGdOzYMc/HP3HiBAYGBty+fVtrj0+8etKT+I8GDRoQExOj8U313r17xMbG0rBhQ+DJN5qzZ89qbPfs+9wYGRnRoUMHPv30U8LDw0lPT+fAgQPAk3982dnZz93e1tYWY2Njjhw5kreTymU/nTp1Yt68eQA4OTmRlJSEQqFQJ5KnL2tra+DfzyU5OVm9n6tXr2pMJGrj6OjIlStXcuzbxsZGYzy5Tp06DB06lKVLlzJ+/Hg2btyorjMwMKBly5b4+PiwdetWqlatyq5du3I9XoMGDTh79qx6DgkgOjqa5ORk7Ozs8vZh/UfFihXp0KEDGzZs0PgcnsrMzCQtLQ0bGxuMjIw4ceKERv2JEyfUv0P5UblyZRITEzXKLl68mKPd8z7P/3oa07P39Jw8efKVxPtfgwYN4ujRowwYMAADA4Nc22j7txAWFsavv/7K+vXrSU1NfeE8oHh1ymSSSEtL49KlSxqvmJgYevfujZWVFRMnTuTChQtERUUxceJEqlevrh6L/eCDDzh9+jRLliwhNjaWX375hW+//RbQ/m07LCyMTZs2ER0dzc2bN9m5cyepqanqMePatWtz7949zpw5w4MHD3j8+HGOfVSoUIEPPviAoKAgNmzYQGxsLNHR0RpXxOjKy8uLiIgIzpw5Q5s2bWjXrh3e3t4cOHCAGzduEBUVRWhoKJs2bQKgd+/eVKhQgU8//ZTo6GjOnTvHjBkzMDExeWEPY/z48fzyyy8EBARw6dIlrl+/zsGDB5k+fTrp6emkpqbi7+/P0aNHuXHjBhcvXuTQoUPY2toCcODAAb777juioqJISEjgwIED3L59W13/rGHDhpGSkoKvry+XL1/m5MmTTJkyhRYtWuQYUsmrzz77jHLlytG/f3/Cw8O5cuUKcXFx7NixgwEDBhAXF4epqSmenp4sXbqUvXv3Ehsby8qVK/nll18YPXp0vo4PT4bfjh49yt69e4mLi2PVqlUaf+Bf9Hk+67XXXqN79+74+/tz6NAhYmJimDVrlvoKqVepf//+6gsZtKlduzbHjh3jzp076i9rV69eZc6cOUyfPh1XV1cWLFjA5s2b+fnnn19pfCJ3ZXK46dy5czmukKlXrx779u1j7dq1BAQEqCdfW7VqxZo1a9Rj3I6OjsyfP5/FixezevVqmjRpgo+PDxMnTtTa/bW0tOSbb74hMDCQjIwM6tSpwxdffKGexOzSpQvdu3fno48+4p9//mHcuHG5Xto6YcIErKysWLduHQEBAVhYWLzUHz4HBwdef/11Fi5cSGhoKMHBwQQFBTFnzhwSExOxtLTEwcGBkSNHAk+GkFatWsXnn3/O22+/jbW1NZMmTcLf3/+FXf42bdoQEhJCUFAQQ4YMQaVSUbNmTdq3b0+5cuXQ09MjKSmJGTNmcPfuXczMzGjdujVTp05Vf3br1q1j5cqVpKamUrNmTcaMGcPAgQNzPV6VKlXUn/Xbb7+NkZERHTt2fO6VS7qytrZm27ZtrF69mqCgIBISEjAzM8PW1hYvLy/1N++JEyeir6/PnDlzePjwIa+99hqBgYEak9Yvy8PDg8uXL/PFF1+QmZlJ79698fT0ZMeOHQCUK1fuuZ9nbmbPns1XX33FlClTSElJwc7OjpUrV2pNLC/LwMDghfdoTJ06lYCAADp37kxmZibnz59n0qRJuLm5MWjQIODJHKC3tzczZ87E0dGxUIZsyzI9la6DikKr7du34+vry7Fjx3KdzC2Nbt68SadOnQgODta4Rl8IUbqUyZ5Efq1du5bWrVtjaWnJ+fPnmT9/Pt27dy/VCWLHjh1Ur16d2rVrk5CQQGBgILVq1Srwu7aFEEVLksRL+Ouvv/j222959OgRNWvWpHfv3jlu1iptHj16xLJly7hz5w6Wlpa4urqyZMmSAl92QwhRtGS4SQghhFZl8uomIYQQupEkIYQQQqsSPyeRee9qUYcgiqHxLaYVdQiiGAq+tilf2+fl741hlfr5OlZxUeKThBBCFBrl81dGKI0kSQghhK6ys17cppSRJCGEEDpSqXJfALI0kyQhhBC60rJKcGkmVzcJIYSuVErdX3mwe/duhgwZgqura64P1bp48SKDBw/G2dmZN954g3Xr1mnUp6en4+fnR6tWrXB1dWXChAk8evRIo82uXbvo1q0bTZs2pU+fPjmelKiNJAkhhNCVMlv3Vx5YWFgwZMiQXBeiTElJYeTIkbRv357jx4+zePFigoKC2Ldvn7rNnDlziIqKIjw8nIiICNLS0jQWdTx9+jTTp0/H19eXkydP4unpyZgxY0hISHhhbJIkhBBCVwXUk3Bzc+Ott97K9VGz+/fvR19fn7Fjx2JsbEyzZs0YOHAg33//PfCkF7F9+3Z8fHyoXr06lpaWTJ06ld9++02dBDZt2kSnTp1wd3fHyMiIgQMH0rBhQ7Zu3frC2GROQgghdKTKw9VNSUlJuT6Yy8LCIk+LgUZHR9O4cWP09f/9Tu/o6EhYWBjw5DHACoUCJycndb2trS2mpqZcunQJa2troqOjeeuttzT26+joSHR09AuPL0lCCCF0lYeJ66fPUXmWtufFaJOSkqLxfHl4kmhSUlLU9UCONubm5hptnk1MFhYWxMbGvvD4kiSEEEJXeRhGGj58OP369ctRntdHCpiZmXH//n2NsqSkJMzMzNT1AMnJyRoPdUpOTtZo8+xjd/+7j+eRJCGEELrKw4R0XoeVtHFwcGDv3r0olUr1kNOFCxdwcHAAoG7duhgbGxMVFUWHDh0AiImJ4fHjx+o2Dg4OREVFaez3woUL6vbPIxPXQgihqwKauM7OzkahUJCZmQmAQqFAoVCgVCrp1q0b2dnZBAcHk5GRwZ9//klYWBjvvvsuACYmJnh4eLB06VISExP5559/CAwMpGPHjtSqVQuAd955h19//ZXff/+dzMxMtmzZwuXLl3Pt6TyrxD9PQhb4E7mRBf5EbvK7wJ8i6med2xo7dtW57datW/H19c1Rvm7dOlq3bs3Fixfx9/fn0qVLVKpUCS8vL9577z11u/T0dGbPns2+ffvIzs7Gzc0Nf39/KlasqG6za9culi5dyu3bt7GxsWH69Ok6PXddkoQolSRJiNzkO0n8+ZPObY2bvpmvYxUXMichhBA6UqlkFVghhBDayAJ/QgghtCqDC/xJkhBCCF1JT0IIIYRW2ZlFHUGhkyQhhBC6kuEmIYQQWslwkxBCCK2kJyGEEEIrSRJCCCG0UcnEtRBCCK1kTkIIIYRWMtwkhBBCK+lJCCGE0Ep6EkIIIbSSnoQQQgitsrKKOoJCJ0lCCCF0JT0JIYQQWsmchBBCCK2kJyGEEEIr6UkIIYTQSnoSQgghtJKrm4QQQmilUhV1BIVOkoQQQuhK5iSEEEJoJUlCCCGEVjJxLYQQQqvs7KKOoNBJkhBCCF3JcJMQQgitJEkIIYTQSuYkhBBCaKNSyn0SQgghtJHhJlGY0tIe8833m7lw6TJR0Zd5+CiJMSOG8rHXsBxtU1JTWbIyhP2/HSYlJRX7BvUYN+o92rVyfe4x/hewiG279tOmRTPWLAnQqFu7fhO/HvqDG/EJJKemUr1qFVq6NmX0+0OoVbP6Kz1XkT82TW1p3a8Ddm2bULlONdJT0rgRFcuuxWFcP39V3W7ixs+wa9NE634CB/yPq6f+Ur+3a9uEXj5vY9PUFmWWkisno9kWsJ5bf8cX6PmUWAV4ddO9e/cICAggMjKSzMxMGjRowOTJk2nZsiUAkZGRzJ07l7i4OGrUqIGPjw89e/ZUb//w4UP8/f05ePAg5cqVo3v37sycORMjI6N8xSVJogg9/CeJld9+T/WqlWlk14DI46dzbadSqRj36eecv3iZ9wb3o2b1amzfvZ+xn/ixeskcWro0zXW7c1GX2Ln3ACbGxrnWX4j+GzvbunRzb49ZhQok3LrD5vB9RBz6g7Bvg6hZveorO1eRP91G96VBSwfO7D1GxHd7KW9ZAbchXZi6fQ4rvOZx4bczAOwN2sqRjb/m2H6Q/wcos5XE/XlFXdbkjWaMWTOVW3/Hs3PBjxiUM6CjZzc+2fwFc/tO5+6124V2fiVGAfYk/P39efToEbt378bS0pKQkBA+/PBDfv/9d5KSkhgzZgwzZ86kb9++HDlyhAkTJlCrVi2cnZ0B+OSTTzAwMCAiIoL09HTGjBnD3Llz8fPzy1dckiSKUNXKlfh1+3qqVa3M7cS7dOn3Xq7tDvx2hJNno5g1fRIevboC0LdHFzw8RxO4bA2bvlmaYxulUsnshSvo16ub1uSzcNaMHGWdOrRlkNd4tu3ez9gRQ/NxduJV+mXNLr7xWUJ25r/fZCN//BW/nxfS55NB6iQRffh8jm1fc6xHeUszfl/3k8b2/X2H8c+dh3zVbwaZ6RkAHNt6EP+IJfSd8i5rPl5UwGdVAhVgkoiLi2PQoEFYWVkBMGjQIObNm8f169eJiIjAzs6OgQMHAuDu7o67uzsbN27E2dmZ+Ph4Dh8+zJ49e7C0tMTS0hIfHx98fHyYOnUqxlq+KOpC/5WcnXgpRkZGVKta+YXt9v16CAtzM956s5O6zNjYiP5vvcnFv/7menxCjm1+3Lab+ITb+Hz0fp5isq5RDYDk5JQ8bScK1tXTlzX+wAOkPkrh8rGL1GxY+7nbtu7fAYA/tv6uLitvUQFr+9c49/MJdYIASLr7iL+PXaRpl+YYmb78H5ZSS6XS+ZWUlER8fHyOV1JSUq67HjVqFPv37+fu3btkZmayYcMG6tati52dHdHR0Tg6Omq0d3R0JDo6GoDo6GhMTU2xtbVV1zs5OfH48WNiY2PzdcqF3pM4efIk0dHRpKSkYGZmhoODAy1atCjsMEqUS5ev4NDQlnLlDDTKnRrb/X99DK/VtlaXP3j4iGWr1zFmxFAqVbR84f4fPvqHbKWSW7cTCf72ewDatnR5hWcgCkrFapVIfag9oesb6NOi9+vciUng2tl/h5rKGT/5p5/xnwTxVMbjDAyNjajl8BqxZ/5+9UGXZHnoSYSEhBAUFJSjfNy4cXh7e+cod3FxYfv27bRv3x4DAwMqVqzI8uXLMTIyIiUlhQYNGmi0t7CwICXlyc8+JSUFc3Nzjfqn75+2eVmFliQSEhIYPXo0sbGx2NjYYG5uTnJyMtevX6devXoEBwdjbW394h2VQXfvP8CpkV2O8qqVn3RLE+/d1yhfuOIbqlWpzLv9e79w32lpj3HrNVj9vlJFC6b6fESHdq3yGbUoaA1aOlC/hT2/rt2ttU3jDs5YVK3IbyH7NMqT7yWR9k8KDVo6aJQbGBpQt9mTP0YVq1u9+qBLujxcAjt8+HD69euXo9zCwiLnbpVK3n//fVq3bs3x48epUKECv/32G6NGjWLDhg2YmZmRnJyssU1SUhJmZmYAmJmZ5UgGT9s/bfOyCi1JfPbZZzRr1owNGzZoZLzk5GQCAwPx8/NjzZo1hRVOiaJQZGBoZJij/OlVCwrFv98Gz5y/yI69B1i9eHaOnkdujI2NWL14DpmZmcTduMmeA7+TlvYYpVKJvr6MRhZXFlUrMmKpDw8T7rF76Wat7VoP6IhSqeTYtoMa5SqVit9D99NjXH/e+ewDfl//EwblDOjhPQDLapUAMDTJ31UxpVIerm6ysLDINSHk5p9//uHGjRssX74cS8snvf8uXbpQp04djhw5goODA4cOHdLY5sKFCzg4PEnyDg4OpKWlERMTox5yioqKwsTEhHr16ukcc24KLUmcOnWKI0eOYGpqqlFubm7OtGnTeP311wsrlBLH2NiIzIzMHOUZGRnqeoDs7GxmL1hO5w7taNNCt+EiAwMDjaGlHl060mfoR2RmZTFupOcriF68aibmpoz7zhfjCiYsGOhHevJjre2admnBleOXeHDzXo76XYvDqFDRjI7vvYn7Bz0AuHb2Cj+v2kmPcf1JT819v2WZqoAmritVqoStrS0bNmzg008/pXz58kRERPD333/TpEkTrK2tWbNmDVu2bKFPnz5ERkYSERFBSEgIALVr16Z9+/YEBgYyb948FAoFS5cupX///vmatIZCTBKmpqYkJiZiY2OToy4xMTFH8hD/qlrZisR7D3KU373/pKxalSeT3zv2HuDvq9f4dPxH3Lx1R90uOzsbRUYGN2/dwdysAhbm2rufVSpb0dKlKVvDf5IkUQwZmhjx8dppVK9vzVLPWST8dUNr2+Y922JkYsQfWw7mWq/MyuaHmWvYueBHatha8zgpjYTLN+j76bsAJF69VSDnUKIV4B3XK1as4KuvvqJr164oFApq1arFZ599RuvWrQEIDg4mICAAf39/atSowZw5c9SXvwIEBgbi7++Pu7s7BgYG9OjRg2nTpuU7rkJLEgMGDMDLy4tRo0bRpEkTLCwsSE5OJioqirVr16ov7RI5NbJrwNETp8nKytYYQvrzwl//X/+ke3nrzl2ys5WM8J6aYx937t7nzbff13qz3n8pMjJIkqubih0DQwM++voT6rk0ZOWHgcSc/Ou57Vv170DGYwWn9xx9brvUh8ka+2rUvikPbt7jztWcV82VeQW4dlPdunVZsWKF1vp27doRHh6utd7KyoolS5a88rgKLUlMnDgRMzMzvv76axISEtDT00OlUmFtbc3gwYMZNWpUYYVS4nRzb89Pvx5k10+/qu+TUCgy2LZ7P43sbNVXNvXo0hGHhvVzbO8/bylVqljxsdcw6tnUASDtcToA5U1NNNrGXLvOyTPncWzUsCBPSeSRnr4eI5b40Kh9U76duIyoiDPPbW9VuyoNWjpwKjwSRWq6zsdp2bc9Nk1tCfviO1Rl8HnOLyRrNxUcPT09PvzwQz788ENSUlLUl8Dmd+a9pPt+806SU1JJSU0D4NTZKL7+7gcAenfvhHWN6nR943Vcmzbhy/lBXL+ZQI1qVdmx52cSbt9h9aI56n3Vt6lD/f9PAv81b8nXWFW0pHOHduqy6zduMmL8NN7s1IF6r9XG2NiIq3E32L57P3p6MGmsVwGfuciLATPew7VnGy4ePIe+vj6tPNw06s/+dJyMxwr1+9Yebujr62vcG/GsFr3b0bKvG5f/uEB6chr1W9jTul8H/jxwiojv9hbYuZRoWfLQoUIhyeFf3/2whYTbier3x0+f4/jpcwC4NG2CdY3q6OvrszzQn8Urv2Xzzn2kpqbR0LYuKwK/oFVzZ227fq7q1arQvXMHTp2NYs/PESgyMqlSuRKdO7Rj5HuDck02oujUaVIXeHJJa+MOOX/mM9p/zIP4u+r3rft14J/Eh1w69KfWfSbG3sK4gjHdP+6HcXlj7l67zbaA9UR8t7dMrnaqkzK4VLieqoT3KTPvXX1xI1HmjG+R/wk7UfoEX9uUr+1TZ+g+d1phdli+jlVcyNpNQgiho4K6BLY4kyQhhBC6KoPDcJIkhBBCV5IkhBBCaFWADx0qriRJCCGEjsriVV+SJIQQQleSJIQQQmglVzcJIYTQSnoSQgghtJIkIYQQQhtVtgw3CSGE0EZ6EkIIIbSRS2CFEEJoJ0niXytXrtR5J6NHj34lwQghRLFW9qYktCeJTZt0W1JXT09PkoQQokxQZZW9LKE1Sfz666+FGYcQQhR/ZS9HyJyEEELoqixOXOvr2nDLli14eHjg6urKjRs3AFi9ejU//fRTgQUnhBDFijIPr1JCpyTx448/Mm/ePLp27UpWVpa63MrKivXr1xdYcEIIUZyolCqdX6WFTkli/fr1+Pv78/HHH2NgYKAub9KkCVeuXCmw4IQQolgpgz0JneYk4uLiaNq0aY7y8uXLk5KS8sqDEkKI4kiV9eI2pY1OPYmqVaty/fr1HOVnzpyhTp06rzwoIYQojlRK3V+lhU5JwsPDg7lz5xIbG4uenh7p6en8/vvvzJ8/nwEDBhR0jEIIUTzIcFPuxowZw82bN+nZsycqlYo+ffoA0L9/f0aMGFGgAQohRHFRmnoIutIpSZQrV465c+fy8ccfc+HCBZRKJY6Ojrz22msFHZ8QQhQbkiReoE6dOlhZWQFQoUKFAglICCGKK1W2XlGHUOh0vpkuNDQUd3d3WrRoQYsWLXjjjTdYt25dQcYmhBDFSlmcuNapJ7Fo0SLWrVvHe++9h6urKwCnT59m0aJF3L9/n4kTJxZokEIIURyolGWvJ6FTkvjxxx/x9/dXT1gDdOzYkQYNGjB79mxJEkKIMqGgewjHjx9n8eLFXLp0CUNDQ5o3b05wcDAAkZGRzJ07l7i4OGrUqIGPjw89e/ZUb/vw4UP8/f05ePAg5cqVo3v37sycORMjI6N8xaTTcFNmZmauN9M5OTmRmZmZrwCEEKKkUKn0dH7l1YkTJxgzZgyDBw/m6NGjHD58mDFjxgAQHx/PmDFj8PT05MSJE0ybNg1fX1/OnTun3v6TTz4hLS2NiIgIwsPDiYqKYu7cufk+Z52SRI8ePQgPD89RvmvXLt588818ByGEECVBXuYkkpKSiI+Pz/FKSkrKdd8LFizgnXfeoU+fPpiYmGBkZKT+cr5t2zbs7OwYOHAgRkZGuLu74+7uzsaNG4EnSeTw4cNMnToVS0tLqlevjo+PD1u3bkWhUOTrnHV6Ml2VKlUICQnh2LFjNGvWDIBz585x6dIlhg0blq8AhBCipFDm4eqmkJAQgoKCcpSPGzcOb29vjbK0tDTOnTuHi4sL/fv35+bNm9StW5cJEybQtm1boqOjcXR01NjG0dGR3bt3AxAdHY2pqSm2trbqeicnJx4/fkxsbCwODg55OU0NOj+ZzsLCgoSEBBISEjTKwsPDmTBhwksHIIQQJUVeJq6HDx9Ov379cpRbWFjkKEtKSkKpVBIeHs6qVato2LAh27ZtY/To0ezatYuUlBQaNGiQYz9P185LSUnB3Nxco/7p+/yurydPphNCCB3lJUlYWFjkmhBy8/S+swEDBtC4cWMA3nnnHUJCQjh06BBmZmYkJydrbJOUlISZmRkAZmZmOZLB0/ZP27wsne+TEEKIsk6l0v2VF+bm5rkulqqn9yQpOTg4EBUVpVF34cIF9TCSg4MDaWlpxMTEqOujoqIwMTGhXr16eTxLTTrfcR0XF8e+ffu4efNmjiuaAgIC8hWEEEKUBAV5n8TQoUNZu3YtPXv2pEGDBmzfvp2bN2/SoUMHVCoVa9asYcuWLfTp04fIyEgiIiIICQkBoHbt2rRv357AwEDmzZuHQqFg6dKl9O/fH2Nj43zFpVOSOHToEGPHjqV+/frExMRgb29PfHw8SqUSJyenfAUghBAlxctc2qqr999/n9TUVLy8vEhLS6Nhw4Z8/fXX1K5dG4Dg4GACAgLw9/enRo0azJkzB2dnZ/X2gYGB+Pv74+7ujoGBAT169GDatGn5jktPpXpxx+jtt9/Gzc0NHx8fXFxc2LlzJ5UrV2by5Ml06NCBd999N9+BvKzMe1eL7Nii+BrfIv//OETpE3xt04sbPcflRt11bmt3aV++jlVc6DQnERMTg4eHB/BkRdj09HTKly/P+PHjWbNmTUHGJ4QQxUZB3kxXXOmUJExNTcnKevLcvipVqnDz5k0ADAwMuH//fsFFJ4QQxYhKqafzq7TQaU6iSZMmnD9/HltbW1q3bs3ChQu5ffs24eHhNGrUqKBjFEKIYiGvVy2VBjr1JCZOnIi1tTUA48ePp0aNGnz11Vekp6fj7+9foAEKIURxIT0JLZ7e3AFgZWXFqlWrAMjOzubRo0cFEpgQQhQ32cqyd2tZvs7477//pn379q8qFiGEKNYK6ma64ixPjy8VQoiyTFmKrlrSlSQJIYTQUWm6tFVXkiSEEEJHpWkYSVeSJIQQQkcy3PSMJk2aqFchLK5Mrd2KOgQhRAkRnM/ty+LVTc9NEl9++WWxTxJCCFFYyuBo0/OTRP/+/QsrDiGEKPZkuEkIIYRWcnWTEEIIrZRFHUARkCQhhBA6UiE9CSGEEFpkyXCTEEIIbcpiT0Lni37/+OMPxo0bR+/evbl9+zYAYWFhHDt2rMCCE0KI4kSZh1dpoVOS+Pnnnxk1ahQWFhZcu3aNzMxMABQKhTy+VAhRZqjQ0/lVWuiUJIKDg/Hz82POnDmUK/fvCJWLiwuXLl0qsOCEEKI4KYs9CZ3mJK5evUrbtm1zlFtYWPDPP/+88qCEEKI4yi5FPQRd6dSTsLCw4O7duznK//rrL6pXr/7KgxJCiOJIqaf7q7TQKUl069aNRYsWkZKSoi67cuUK8+fPp2fPngUWnBBCFCdK9HR+lRY6JYlJkyahUql4/fXXSU9P5+2336Z3797UqlWLcePGFXSMQghRLKjy8CotdJqTKF++PKGhoRw7doyoqCiUSiWOjo65zlMIIURpVZompHWVp5vpWrduTevWrQsqFiGEKNaUZfDRCToliaCgoOfWy5CTEKIsyC7qAIqATkli586dGu+zsrK4c+cORkZGVKtWTZKEEKJMKE1XLelKpySxf//+HGX3799n6tSpDB48+JUHJYQQxVFpumpJVy/9wNbKlSszYcIEAgMDX2U8QghRbJXFq5vy9VTvcuXKkZiY+KpiEUKIYq0wbqb7+OOPsbe311g8NTIykj59+uDs7Mybb77Jnj17NLZ5+PAhEyZMwNXVlVatWuHn50dGRsbLB/EfOg03nT59WuO9SqUiMTGRNWvW4Ojo+EoCEUKI4q6gL4Hdvn076enpGmXx8fGMGTOGmTNn0rdvX44cOcKECROoVasWzs7OAHzyyScYGBgQERFBeno6Y8aMYe7cufj5+eU7Jp2SxJAhQ9DT00Ol0uxEubq6MmvWrHwHIYQQJUF2AU5J3L59m8WLF/P999/j7u6uLt+2bRt2dnYMHDgQAHd3d9zd3dm4cSPOzs7Ex8dz+PBh9uzZg6WlJZaWlvj4+ODj48PUqVMxNjbOV1w6JYlffvlF472+vj5WVlb5PrgQQpQkeelJJCUlkZSUlKPcwsICCwsLjTKVSsX06dMZM2YM1tbWGnXR0dE5RmwcHR3ZvXu3ut7U1BRbW1t1vZOTE48fPyY2NhYHB4c8RJ3TC5NEZmYmCxYsYMKECbz22mv5OpgQQpRkeUkSISEhud5jNm7cOLy9vTXKvv/+e1QqFYMGDcrRPiUlhQYNGmiUWVhYqNfSS0lJwdzcXKP+6fv/rrf3sl6YJAwNDTl48CATJ07M98GEEKIky8sjrocPH06/fv1ylD/bi7h+/TrBwcH8+OOPue7HzMyM5ORkjbKkpCTMzMzU9c8mg6ftn7bJD52Gmzp27MjBgwcZOnRovg8ohBAlVV56ErkNK+Xm5MmTPHr0iP79+2uUjx07lrfeegsHBwcOHTqkUXfhwgX1MJKDgwNpaWnExMSoh5yioqIwMTGhXr16eYg4dzoliWbNmrFs2TKio6NxcnLC1NRUo7537975DkQIIYq7gliWo0ePHrRr106jrGPHjsyaNYt27dqRlJTEmjVr2LJlC3369CEyMpKIiAhCQkIAqF27Nu3btycwMJB58+ahUChYunQp/fv3fyXzxnqqZy9Z+o/OnTuzefPm5672qqenV6SPMC1nVKvIji2EKFmyMm7ma/slrw3Tua3P9fUvfRx7e3vWrVunXlA1MjKSgIAA4uLiqFGjBhMmTNB4ls+DBw/w9/fn0KFDGBgY0KNHD2bMmFHwScLBwYEjR45QuXLlfB+ooEiSEELoKr9JYlEeksTEfCSJ4iRPS4ULIURZJs+TyMXdu3fJysp6bht5zrUQoiwoTWsy6eqFSSK3S7ieUqlURT4nIYQQhUWWCs/F0qVLsbS0LIxYhBCiWJOHDuXC1dW1WE9cCyFEYVGWwQGn5yYJvTL4PFchhNBGJq6f8ZyrY4UQoswpi38Rn5skoqOjCysOIYQo9qQnIYQQQiu5ukkIIYRW2WVwwEmShBBC6EiGm4QQQmgll8AKIYTQquylCEkSQgihMxluEkIIoVVZnLjWL+oAxMszNDTE//MpXL1ynJSkGE6f+plBg/oWdViiiMnvRcFR5uFVWkhPogRbvWoB7w72IHhlCOfPX6KfRw82hK5AX1+fH37YVtThiSIivxcFR1UGexLPfTJdSVBWn0zn6uLE8WP7+OLLBXzx5UJ1+W+/bsXWti71bFu98DkgovSR34vny++T6cbVHaRz26BrP+brWMWFDDeVUAMH9kapVLIi+DuN8uCvQ6hZszod3NoUTWCiSMnvRcFSotL5VVpIkiihXJo5ce3aDe7de6BRfuLE2Sf1Lo5FEJUoavJ7UbBUeXiVFjInUULVqFmN27cTc5TfunUHAOuaNQo7JFEMyO9FwcoqVX/+dVNsehIqlYoTJ04UdRglhqmJCQpFRo7y9HQFACamJoUdkigG5PeiYKny8F9pUWySRGZmJu+9915Rh1FiPE5Px9jYKEe5iYkxAOmP0ws7JFEMyO9FwSqLl8AWmyQB8pCjvLh9K5GaNavnKH9alnDrdmGHJIoB+b0oWGWxJ1GocxKNGjV6br08LlV3Z86ep1On9lSpYqUxSdmqlcuT+jNRRRWaKELye1GwSlMPQVeF2pMoX748s2bNIiQkJMdr9erVhRlKibdly2709fUZO+Z9jfKPRnly+3YiBw/9UTSBiSIlvxcFK1ul0vlVWhRqT8LBwQFTU1NatWqVoy4jI0OGm/Lg5KlzfP/DVmZMn0ClShXVd9a6ubXh/RE+ZfqGqbJMfi8KVmm6/0FXhZokhg4diqWlZe6BlCtHQEBAYYZT4o0cNZm4uHiGDX2bD0cN4/LfV/EcPk6WXijj5Pei4JSmuQZdybIcQogyI7/Lcgyy8dC57Y9x2/N1rOJCbqYTQggdyXCTEEIIrcricJMkCSGE0FFpumpJV8XqZjohhCjOCmoV2MDAQHr16oWrqyvt27dn+vTpPHz4UKPNxYsXGTx4MM7OzrzxxhusW7dOoz49PR0/Pz9atWqFq6srEyZM4NGjR/k9ZUkSQgihq4JalsPAwIDAwECOHTvGjh07uH37Nr6+vur6lJQURo4cSfv27Tl+/DiLFy8mKCiIffv2qdvMmTOHqKgowsPDiYiIIC0tjalTp+brfEGShBBC6KygluWYNGkSjRs3xtDQkMqVK+Pp6cnx48fV9fv3739yk+TYsRgbG9OsWTMGDhzI999/DzzpRWzfvh0fHx+qV6+OpaUlU6dO5bfffiMhISFf5yxzEkIIoaO8DCMlJSWRlJSUo9zCwgILC4vnbnv06FEcHBzU76Ojo2ncuDH6+v9+r3d0dCQsLAyAa9euoVAocHJyUtfb2tpiamrKpUuXsLa21jnuZ0mSEEIIHeXltrKQkBCCgoJylI8bNw5vb2+t2+3Zs4ewsDDWr1+vLktJScHc3FyjnYWFBSkpKep6IEcbc3Nzdd3LkiQhhBA6ys5DT2L48OH069cvR/nzehG7d+/m888/Jzg4mCZNmqjLzczMuH//vkbbpKQkzMzM1PUAycnJWFlZqdskJyer616WJAkhhNBRXoabdBlW+q+wsDACAwNZuXIlzZs316hzcHBg7969KJVK9ZDThQsX1ENSdevWxdjYmKioKDp06ABATEwMjx8/1hi2ehkycS2EEDpSqVQ6v/Ji3bp1zJ8/n7Vr1+ZIEADdunUjOzub4OBgMjIy+PPPPwkLC+Pdd98FwMTEBA8PD5YuXUpiYiL//PMPgYGBdOzYkVq18rd0kazdJIQoM/K7dpN77a46t42I/1nntvb29pQrVw4jI82nCu7evVs96Xzx4kX8/f25dOkSlSpVwsvLS+Npnunp6cyePZt9+/aRnZ2Nm5sb/v7+VKxYUec4ciNJQghRZuQ3SbxRu4vObX+LP5CvYxUXMichhBA6KovLckiSEEIIHckqsEIIIbSSJCGEEEKrEj6F+1IkSQghhI6kJyGEEEIreeiQEEIIrbJVeV0EvOSTJCGEEDqSOQkhhBBayZyEEEIIrWROQgghhFZKGW4SQgihjfQkhBBCaCVXNwkhhNBKhpuEEEJoJcNNQgghtJKehBBCCK2kJyGEEEKrbFV2UYdQ6CRJCCGEjmRZDiGEEFrJshxCCCG0kp6EEEIIreTqJiGEEFrJ1U1CCCG0kmU5hBBCaCVzEkIIIbSSOQkhhBBaSU9CCCGEVnKfhBBCCK2kJyGEEEIrubpJCCGEVjJxLYQQQquyONykX9QBCCFESaHKw395pVQqWbhwIe3atcPFxQUvLy9u3rxZAGeRN5IkhBBCRyqVSudXXq1Zs4Zdu3axfv16Dh8+jLW1NaNHj0apLNp5EBluEkIIHeVlTiIpKYmkpKQc5RYWFlhYWOQo37hxIyNHjqR+/foATJkyhXbt2nHq1Clatmz58kHnU4lPElkZRd8dE0KUDXn5e7Ns2TKCgoJylI8bNw5vb2+NsuTkZG7evImjo6O6zMLCAhsbGy5duiRJQgghSpvhw4fTr1+/HOW59SJSUlJyrTM3N1fXFRVJEkIIUQC0DSvlxszMDHjSo/iv5ORkdV1RkYlrIYQoYubm5tSqVYuoqCh1WXJyMtevX6dRo0ZFGJkkCSGEKBYGDx7M2rVriY2NJS0tjcDAQOrWrUvz5s2LNC4ZbhJCiGJg5MiRJCcnM2TIEB4/fkzz5s0JDg5GX79ov8vrqcriLYRCCCF0IsNNQgghtJIkIYQQQitJEkIIIbSSJCGEEEIrSRIlXHFdOVIUrd27dzNkyBBcXV2xt7cv6nBECSZJooQrritHiqJlYWHBkCFDmD59elGHIko4SRIl3H9XjqxQoQJTpkwhNjaWU6dOFXVoogi5ubnx1ltvUadOnaIORZRwkiRKsBetHCmEEPklSaIEK84rRwohSgdJEiVYcV45UghROkiSKMGK88qRQojSQZJECVdcV44URSs7OxuFQkFmZiYACoUChUIhV72JPJNVYEu44rpypChaO3bswNfXV/2+adOmAKxbt47WrVsXVViiBJJVYIUQQmglXzeFEEJoJUlCCCGEVpIkhBBCaCVJQgghhFaSJIQQQmglSUIIIYRWkiREofH09GTGjBla3xem+Ph47O3tOXnyZIEex97enh07dhSb/QiRV5IkyrBp06Zhb2+Pvb09jRs3xt3dHT8/Px4+fFgox1+2bJnGDV8v0rVrV5YtW1aAEWlatmwZXbt2LbTjCVEcyR3XZVyLFi1YvHgx2dnZREVFMXPmTG7fvs2qVatytFWpVGRlZWFoaPhKjl2xYsVXsh8hRMGRnkQZZ2hoSNWqValRowZdunRh+PDhHDp0iPT0dLZu3Urjxo35448/8PDwwMnJicjISDIzM1m2bBmdOnXCycmJXr16sXHjRo393rx5Ey8vL5o2bUrHjh0JDQ3Ncezchps2bNhAz549cXR0pG3btnh7e6vbXr9+naCgIHXvJz4+HoC4uDi8vb1p0aIFLVu2ZMSIEfz1118a+92zZw9du3bFycmJwYMH56h/GUeOHMHT05NWrVrRvHlzhg0bxp9//pmj3aNHj/D29qZZs2a4ubkREhKiUZ+amsqsWbNwc3PD2dkZDw8P9u/fn+/4hHgVpCchNJiYmKBUKsnKygKePEN7/vz5TJs2jVq1alGhQgX+97//ceHCBb744gtsbGw4f/48fn5+GBgYMHDgQFQqFePGjUNfX5/Q0FCMjIz46quvuHDhAq+99prWYy9dupRvv/2WyZMn8/rrr5OWlsbBgweBJ0M//fv3580332TEiBEAWFlZce/ePYYMGUKXLl3YsGEDhoaGbNiwgffee4+9e/diZWXFxYsXmTx5MiNHjqRfv35cuXKF2bNn5/uzSktL491338XBwYHs7Gy+++47Ro4cyU8//USlSpXU7ZYvX463tzeTJk3i4MGDzJs3j1q1atGlSxdUKhWjR48GYNGiRVSvXp3IyEgmTZrE6tWradu2bb7jFCI/JEkItStXrrBhwwacnZ3Vz6NQqVRMmzaNFi1aAHDjxg22b9/O7t27sbW1BaBOnTpcvXqV9evXM3DgQI4ePcrFixfZt28f9erVA2DBggW88cYbWo+dlpbGmjVr8PHxYdiwYeryJk2aAE+GpgwMDChfvjxVq1ZV1//www/UqlULf39/ddnMmTP5/fff2blzJ++//z7ffPMNzs7OTJ48GYD69euTmJjIl19+ma/P69n5ii+//JL9+/dz6NAh+vTpoy7v2LEjnp6eANSrV48///yTb775hi5dunD8+HHOnj1LZGQk5ubmAAwaNIizZ88SGhoqSUIUOUkSZdzx48dxcXEhOzubjIwM2rZtyxdffKHRxsnJSf3/UVFRqFQq3n77bY02WVlZGBgYAE+STaVKldQJAp586//v+2dduXIFhULB66+/nqf4z58/z4ULF3BxcdEoT09PJy4uDoCYmBjatGmjUf8qllK/ceMGS5cu5ezZs9y/fx+VSsXjx49JSEjQaNesWTON966urixZskQdf2ZmJh06dNBok5mZiY2NTb5jFCK/JEmUcU2bNmXevHkYGBhQrVo1jIyMNOoNDAwwNjZWv3+6aPAPP/yAqampRls9Pb2CD/gZSqWSNm3a4Ofnl6Pu6TfzgjJ69GgqVaqEn58fNWvWxNDQkCFDhqif4aALpVKJubk5mzdvzlH3qi4QECI/JEmUcSYmJnn6xvp0+OfWrVu4u7vn2qZBgwY8fPiQa9euUbduXQAePHhAbGwsjo6OuW5ja2uLsbExR44cwcHBIdc2hoaGZGdna5Q5Ojqybds2atSooZHMnt33mTNnNMpOnz6t9Rx18fDhQ65cucKqVatwc3MD4Pbt29y/fz9H23PnzjF06FCNYz8dqnNyciIpKQmFQoGdnV2+YhKiIMjVTSJPbGxsGDBgAP/73//Yvn07cXFxREdHs3nzZvVls23btsXBwYEpU6bw559/cunSJaZMmUK5ctq/k1SoUIEPPviAoKAgNmzYQGxsLNHR0Xz99dfqNrVr1+b06dMkJCTw4MEDlEolw4YNIzs7m7Fjx3Ly5Eni4+M5efIkixYtUieC999/n7Nnz7Jo0SJiY2P5+eef+eabb3Q638zMTC5duqTxio6OxtLSEisrK8LCwoiNjeXMmTNMmjQJExOTHPv47bffWL9+PdeuXSM0NJS9e/eqJ9/btGlDu3bt8Pb25sCBA9y4cYOoqChCQ0PZtGmTzj8XIQqK9CREnn355Zd88803rFy5kvj4eCpUqEDDhg3V35b19PRYvnw5fn5+DB06lEqVKuHl5UVGRsZz9zthwgSsrKxYt24dAQEBWFhYqCfMAby9vfHz86N79+4oFAp++eUXateuzY8//sjChQsZN24cKSkpVK1alebNm6snuB0dHVmwYAGLFi1i7dq1NGrUCF9fXz7++OMXnuutW7fw8PDQKDMyMuL8+fMsWbKEWbNm0adPH6ytrZk0aRLz58/PsY+xY8cSGRlJYGAg5ubmTJkyRT3praenR3BwMEFBQcyZM4fExEQsLS1xcHBg5MiRL4xPiIImT6YTQgihlQw3CSGE0EqShBBCCK0kSQghhNBKkoQQQgitJEkIIYTQSpKEEEIIrSRJCCGE0EqShBBCCK0kSQghhNDq/wC69foLhVtzpgAAAABJRU5ErkJggg==",
       "datasetInfos": [],
       "metadata": {
        "imageDimensions": {
         "height": 289,
         "width": 393
        }
       },
       "removedWidgets": [],
       "type": "image"
      },
      "image/png": {
       "height": 289,
       "width": 393
      }
     },
     "output_type": "display_data"
    },
    {
     "output_type": "display_data",
     "data": {
      "image/png": "[encoded data removed]"
     },
     "metadata": {
      "application/vnd.databricks.v1+output": {
       "addedWidgets": {},
       "arguments": {},
       "data": "data:image/png;base64,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",
       "datasetInfos": [],
       "metadata": {
        "imageDimensions": {
         "height": 289,
         "width": 393
        }
       },
       "removedWidgets": [],
       "type": "image"
      },
      "image/png": {
       "height": 289,
       "width": 393
      }
     },
     "output_type": "display_data"
    }
   ],
   "source": [
    "def conf_mtx(mtx, title=None):\n",
    "    '''\n",
    "    [[TN, FN], [FP, TP]]\n",
    "    '''\n",
    "    \n",
    "    if(title==None):\n",
    "        title='Confusion Mtx'\n",
    "        \n",
    "    sns.set(font_scale=1.2)#for label size\n",
    "    ax = sns.heatmap(mtx, annot=True,annot_kws={\"size\": 17}, fmt='g')\n",
    "    ax.set(xlabel='Predicted Label', ylabel='True Label', title=title)\n",
    "    plt.show()\n",
    "    \n",
    "conf_mtx_test=[[1144,0],[0,327]]\n",
    "\n",
    "conf_mtx_1 = [[1043, 279], [0, 0]]\n",
    "\n",
    "conf_mtx(conf_mtx_1, 'Logistic Regression Confusion Mtx')\n",
    "\n",
    "conf_mtx(conf_mtx_test, 'Random Forest Classifier - Testing Set')"
   ]
  },
  {
   "cell_type": "markdown",
   "metadata": {
    "application/vnd.databricks.v1+cell": {
     "cellMetadata": {
      "byteLimit": 2048000,
      "rowLimit": 10000
     },
     "inputWidgets": {},
     "nuid": "1b4b9887-e4b0-4d06-8ee5-117b27231a6d",
     "showTitle": false,
     "title": ""
    }
   },
   "source": [
    "### Data Cleaning / Preprocessing"
   ]
  },
  {
   "cell_type": "markdown",
   "metadata": {
    "application/vnd.databricks.v1+cell": {
     "cellMetadata": {
      "byteLimit": 2048000,
      "rowLimit": 10000
     },
     "inputWidgets": {},
     "nuid": "b8652227-1530-4277-af6f-b611983f142a",
     "showTitle": false,
     "title": ""
    }
   },
   "source": [
    "Overview:\n",
    "\n",
    "- create user level data based on user actions (pages visited, songs listened to, etc).\n",
    "- set up data for machine learning algorithms (ML algos use specific data types in Spark)"
   ]
  },
  {
   "cell_type": "code",
   "execution_count": 0,
   "metadata": {
    "application/vnd.databricks.v1+cell": {
     "cellMetadata": {
      "byteLimit": 2048000,
      "rowLimit": 10000
     },
     "inputWidgets": {},
     "nuid": "20e97f68-3ae0-432f-bc0d-239f90443529",
     "showTitle": false,
     "title": ""
    }
   },
   "outputs": [
    {
     "output_type": "display_data",
     "data": {
      "text/html": [
       "<style scoped>\n  .ansiout {\n    display: block;\n    unicode-bidi: embed;\n    white-space: pre-wrap;\n    word-wrap: break-word;\n    word-break: break-all;\n    font-family: \"Source Code Pro\", \"Menlo\", monospace;;\n    font-size: 13px;\n    color: #555;\n    margin-left: 4px;\n    line-height: 19px;\n  }\n</style>\n<div class=\"ansiout\"></div>"
      ]
     },
     "metadata": {
      "application/vnd.databricks.v1+output": {
       "addedWidgets": {},
       "arguments": {},
       "data": "<div class=\"ansiout\"></div>",
       "datasetInfos": [],
       "metadata": {},
       "removedWidgets": [],
       "type": "html"
      }
     },
     "output_type": "display_data"
    }
   ],
   "source": [
    "def feature_engineering(df):\n",
    "    \n",
    "    #Clean data of any rows where user id or session id are null, as this would interfere with feature engineering\n",
    "    users = df.where((df.userId != \"\") | (df.sessionId != \"\"))\\\n",
    "        .select('userId').dropDuplicates()\n",
    "    \n",
    "    #define custom functions\n",
    "    churn = udf(lambda x: int(x==\"Cancellation Confirmation\"), IntegerType())\n",
    "    downgrade_churn = udf(lambda x: int(x==\"Submit Downgrade\"), IntegerType())\n",
    "    visited_downgrade = udf(lambda x: int(x=='Downgrade'), IntegerType())\n",
    "    visited_cancel = udf(lambda x: int(x=='Cancel'), IntegerType())\n",
    "    song = udf(lambda x: int(x=='NextSong'), IntegerType())\n",
    "    days = lambda i: i * 86400 \n",
    "    get_day = udf(lambda x: datetime.datetime.fromtimestamp(x/1000), DateType())\n",
    "    skipped = udf(lambda x: int(x!=0), IntegerType())\n",
    "    free = udf(lambda x: int(x=='free'), IntegerType())\n",
    "    paid = udf(lambda x: int(x=='paid'), IntegerType())\n",
    "    home_visit=udf(lambda x : int(x=='Home'), IntegerType())\n",
    "    \n",
    "    #define windows\n",
    "    windowval = Window.partitionBy(\"userId\").orderBy(desc(\"ts\")).rangeBetween(Window.unboundedPreceding, 0)\n",
    "    session = Window.partitionBy(\"userId\", \"sessionId\").orderBy(desc(\"ts\"))\n",
    "    daywindow = Window.partitionBy('userId', 'date').orderBy(desc('ts'))\\\n",
    "        .rangeBetween(Window.unboundedPreceding, 0)\n",
    "\n",
    "    avgThumbsUp = df.filter(df.page=='Thumbs Up')\\\n",
    "        .select('userId', 'page', 'ts')\\\n",
    "        .withColumn('date', get_day(col('ts')))\\\n",
    "        .groupBy('userId', 'date').agg({'page':'count'}).groupBy('userId')\\\n",
    "        .mean().withColumnRenamed('avg(count(page))', 'avgThumbsUp')\n",
    "    \n",
    "    avgThumbsDown = df.filter(df.page=='Thumbs Down')\\\n",
    "        .select('userId', 'page', 'ts')\\\n",
    "        .withColumn('date', get_day(col('ts')))\\\n",
    "        .groupBy('userId', 'date').agg({'page':'count'})\\\n",
    "        .groupBy('userId').mean()\\\n",
    "        .withColumnRenamed('avg(count(page))', 'avgThumbsDown')\n",
    "    \n",
    "    numFriends = df.filter(df.page=='Add Friend')\\\n",
    "        .select('userId', 'page')\\\n",
    "        .groupBy('userId').count().withColumnRenamed('count', 'numFriends')\n",
    "    \n",
    "    skipping = df.select('userId', 'page', 'ts', 'length', 'sessionId', 'itemInSession')\\\n",
    "        .where((df.page != 'Thumbs Up') & (df.page != 'Thumbs Down'))\\\n",
    "        .withColumn('song', song('page')).orderBy('userId', 'sessionId', 'itemInSession')\\\n",
    "        .withColumn('nextActSong', lag(col('song')).over(session))\\\n",
    "        .withColumn('tsDiff', (lag('ts').over(session)-col('ts'))/1000)\\\n",
    "        .withColumn('timeSkipped', (floor('length')-col('tsDiff')))\\\n",
    "        .withColumn('roundedLength', floor('length'))\\\n",
    "        .where((col('song')==1) & ((col('nextActSong')!=0)&(col('timeSkipped')>=0)))\\\n",
    "        .withColumn('skipped', skipped('timeSkipped'))\\\n",
    "        .select('userId', 'timeSkipped', 'skipped', 'length', 'ts', 'tsDiff')\\\n",
    "        .groupBy('userId').agg({'skipped':'avg', 'timeSkipped':'avg'})\\\n",
    "        .withColumnRenamed('avg(skipped)', 'skipRate')\\\n",
    "        .withColumnRenamed('avg(timeSkipped)', 'avgTimeSkipped')\n",
    "    \n",
    "#avg daily visits to help site\n",
    "    dailyHelpVisit = df.filter(df.page=='Help')\\\n",
    "        .select('userId', 'page', 'ts', 'length')\\\n",
    "        .withColumn('date', get_day(col('ts')))\\\n",
    "        .groupBy('userId', 'date').agg({'page':'count'})\\\n",
    "        .groupBy('userId').mean()\\\n",
    "         .withColumnRenamed('avg(count(page))', 'dailyHelpVisits')\n",
    "\n",
    "    dailyErrors = df.filter(df.page=='Error')\\\n",
    "        .select('userId', 'page', 'ts', 'length')\\\n",
    "        .withColumn('date', get_day(col('ts')))\\\n",
    "        .groupBy('userId', 'date').agg({'page':'count'})\\\n",
    "        .groupBy('userId').mean()\\\n",
    "        .withColumnRenamed('avg(count(page))', 'dailyErrors')\n",
    "    \n",
    "    #whether a user has downgraded\n",
    "    churn = df.withColumn(\"downgraded\", downgrade_churn(\"page\"))\\\n",
    "        .withColumn(\"cancelled\", churn(\"page\"))\\\n",
    "        .withColumn('visited_cancel', visited_cancel('page'))\\\n",
    "        .withColumn('visited_downgrade', visited_downgrade('page'))\\\n",
    "        .select(['userId', 'downgraded', 'cancelled', 'visited_cancel', 'visited_downgrade'])\\\n",
    "        .groupBy('userId').sum()\\\n",
    "        .withColumnRenamed('sum(downgraded)', 'downgraded')\\\n",
    "        .withColumnRenamed('sum(cancelled)', 'cancelled')\\\n",
    "        .withColumnRenamed('sum(visited_cancel)', 'visited_cancel')\\\n",
    "        .withColumnRenamed('sum(visited_downgrade)', 'visited_downgrade')\n",
    "\n",
    "    user_level = df.select('userId', 'level')\\\n",
    "        .where((df.level=='free')|(df.level=='paid'))\\\n",
    "        .dropDuplicates()\\\n",
    "        .withColumn('free', free('level'))\\\n",
    "        .withColumn('paid', paid('level')).drop('level')\n",
    "\n",
    "    cusum = df.filter((df.page == 'NextSong') | (df.page == 'Home')) \\\n",
    "        .select('userID', 'page', 'ts') \\\n",
    "        .withColumn('homevisit', home_visit(col('page'))) \\\n",
    "        .withColumn('songPeriod', Fsum('homevisit').over(windowval))\\\n",
    "    \n",
    "    avgSongsTillHome = cusum.filter((cusum.page=='NextSong'))\\\n",
    "        .groupBy('userId', 'songPeriod')\\\n",
    "        .agg({'songPeriod':'count'}).drop('songPeriod')\\\n",
    "        .groupby('userId').mean()\\\n",
    "        .withColumnRenamed('avg(count(songPeriod))', 'avgSongsTillHome')\n",
    "    \n",
    "    df = users.join(churn, on='userId')\\\n",
    "        .join(dailyHelpVisit, on='userId')\\\n",
    "        .join(dailyErrors, on='userId')\\\n",
    "        .join(user_level, on='userId')\\\n",
    "        .join(avgThumbsUp, on='userId')\\\n",
    "        .join(avgThumbsDown, on='userId')\\\n",
    "        .join(numFriends, on='userId')\\\n",
    "        .join(avgSongsTillHome, on='userId')\\\n",
    "        .join(skipping, on='userId')\n",
    "    \n",
    "    return df"
   ]
  },
  {
   "cell_type": "code",
   "execution_count": 0,
   "metadata": {
    "application/vnd.databricks.v1+cell": {
     "cellMetadata": {
      "byteLimit": 2048000,
      "rowLimit": 10000
     },
     "inputWidgets": {},
     "nuid": "41a26b65-0756-4213-9fe7-e8571d331d2d",
     "showTitle": false,
     "title": ""
    }
   },
   "outputs": [
    {
     "output_type": "display_data",
     "data": {
      "text/html": [
       "<style scoped>\n  .ansiout {\n    display: block;\n    unicode-bidi: embed;\n    white-space: pre-wrap;\n    word-wrap: break-word;\n    word-break: break-all;\n    font-family: \"Source Code Pro\", \"Menlo\", monospace;;\n    font-size: 13px;\n    color: #555;\n    margin-left: 4px;\n    line-height: 19px;\n  }\n</style>\n<div class=\"ansiout\"></div>"
      ]
     },
     "metadata": {
      "application/vnd.databricks.v1+output": {
       "addedWidgets": {},
       "arguments": {},
       "data": "<div class=\"ansiout\"></div>",
       "datasetInfos": [],
       "metadata": {},
       "removedWidgets": [],
       "type": "html"
      }
     },
     "output_type": "display_data"
    }
   ],
   "source": [
    "from pyspark.ml.feature import VectorAssembler\n",
    "from pyspark.ml.feature import MinMaxScaler #used because won't distort binary vars\n",
    "from pyspark.sql.types import DoubleType\n",
    "\n",
    "def feature_scaling(df):\n",
    "    feature_cols = df.drop('userId', 'cancelled').columns\n",
    "    assembler = VectorAssembler(inputCols=feature_cols,\\\n",
    "                                outputCol='feature_vec')\n",
    "    \n",
    "    #pyspark.ml expects target column to be names: 'labelCol', w/ type: Double\n",
    "    df = df.withColumn(\"label\", df[\"cancelled\"].cast(DoubleType()))\n",
    "    \n",
    "    #pyspark default name for features vector column: 'featuresCol'\n",
    "    minmaxscaler = MinMaxScaler(inputCol=\"feature_vec\", outputCol=\"features\")\n",
    "    \n",
    "    df = assembler.transform(df)\n",
    "    minmaxscaler_model = minmaxscaler.fit(df)\n",
    "    scaled_df = minmaxscaler_model.transform(df)\n",
    "    return scaled_df"
   ]
  },
  {
   "cell_type": "code",
   "execution_count": 0,
   "metadata": {
    "application/vnd.databricks.v1+cell": {
     "cellMetadata": {
      "byteLimit": 2048000,
      "rowLimit": 10000
     },
     "inputWidgets": {},
     "nuid": "9fec50a5-2003-46a3-9411-99b997862de8",
     "showTitle": false,
     "title": ""
    }
   },
   "outputs": [
    {
     "output_type": "display_data",
     "data": {
      "text/html": [
       "<style scoped>\n  .ansiout {\n    display: block;\n    unicode-bidi: embed;\n    white-space: pre-wrap;\n    word-wrap: break-word;\n    word-break: break-all;\n    font-family: \"Source Code Pro\", \"Menlo\", monospace;;\n    font-size: 13px;\n    color: #555;\n    margin-left: 4px;\n    line-height: 19px;\n  }\n</style>\n<div class=\"ansiout\"></div>"
      ]
     },
     "metadata": {
      "application/vnd.databricks.v1+output": {
       "addedWidgets": {},
       "arguments": {},
       "data": "<div class=\"ansiout\"></div>",
       "datasetInfos": [],
       "metadata": {},
       "removedWidgets": [],
       "type": "html"
      }
     },
     "output_type": "display_data"
    }
   ],
   "source": [
    "#define function to check the performance of the model\n",
    "\n",
    "def evaluation(pred, model_name):\n",
    "    '''\n",
    "    Perform custom evaluation of predictions\n",
    "    \n",
    "    1.inspect with PySpark.ML evaluator (will use for pipeline)\n",
    "    2. use RDD-API; PySpark.MLLib to get metrics based on predictions \n",
    "    3. display confusion matrix\n",
    "    \n",
    "    Inspiration from: https://chih-ling-hsu.github.io/2018/09/17/spark-mllib\n",
    "    https://spark.apache.org/docs/2.2.0/mllib-evaluation-metrics.html\n",
    "    https://stackoverflow.com/questions/35572000/how-can-i-plot-a-confusion-matrix\n",
    "    \n",
    "    Inputs\n",
    "        preds(PySpark.ml.DataFrame) - predictions from model\n",
    "    '''\n",
    "    #want to evaluate binary class, auc_pr is best for imbalanced classes\n",
    "    tn_sum = pred.filter((pred.label == 0)&(pred.prediction==0)).count() #true negative\n",
    "    fn_sum = pred.filter((pred.label == 1)&(pred.prediction==0)).count() #false negative\n",
    "    fp_sum = pred.filter((pred.label == 0)&(pred.prediction==1)).count() #false positive\n",
    "    tp_sum = pred.filter((pred.label == 1)&(pred.prediction==1)).count() #true positive\n",
    "\n",
    "    print(\"{} \\n | tn:{}| fn:{}| fp:{}| tp:{}\".format(model_name, tn_sum, fn_sum, fp_sum, tp_sum))"
   ]
  },
  {
   "cell_type": "markdown",
   "metadata": {
    "application/vnd.databricks.v1+cell": {
     "cellMetadata": {
      "byteLimit": 2048000,
      "rowLimit": 10000
     },
     "inputWidgets": {},
     "nuid": "3db9de58-5b71-41f9-bca7-4d4b74ca80e8",
     "showTitle": false,
     "title": ""
    }
   },
   "source": [
    "### Modelling"
   ]
  },
  {
   "cell_type": "code",
   "execution_count": 0,
   "metadata": {
    "application/vnd.databricks.v1+cell": {
     "cellMetadata": {
      "byteLimit": 2048000,
      "rowLimit": 10000
     },
     "inputWidgets": {},
     "nuid": "c1ead216-7994-4c63-ac0b-6ffd3eb79560",
     "showTitle": false,
     "title": ""
    }
   },
   "outputs": [
    {
     "output_type": "display_data",
     "data": {
      "text/html": [
       "<style scoped>\n  .ansiout {\n    display: block;\n    unicode-bidi: embed;\n    white-space: pre-wrap;\n    word-wrap: break-word;\n    word-break: break-all;\n    font-family: \"Source Code Pro\", \"Menlo\", monospace;;\n    font-size: 13px;\n    color: #555;\n    margin-left: 4px;\n    line-height: 19px;\n  }\n</style>\n<div class=\"ansiout\">Out[24]: Row(userId=&#39;51&#39;, downgraded=0, cancelled=1, visited_cancel=1, visited_downgrade=23, dailyHelpVisits=1.7142857142857142, dailyErrors=1.0, free=0, paid=1, avgThumbsUp=8.333333333333334, avgThumbsDown=2.1, numFriends=28, avgSongsTillHome=29.319444444444443, avgTimeSkipped=0.0, skipRate=0.0, label=1.0, feature_vec=DenseVector([0.0, 1.0, 23.0, 1.7143, 1.0, 0.0, 1.0, 8.3333, 2.1, 28.0, 29.3194, 0.0, 0.0]), features=DenseVector([0.0, 1.0, 0.3151, 0.2381, 0.0, 0.0, 1.0, 0.8722, 0.3667, 0.1901, 0.7032, 0.5, 0.5]))</div>"
      ]
     },
     "metadata": {
      "application/vnd.databricks.v1+output": {
       "addedWidgets": {},
       "arguments": {},
       "data": "<div class=\"ansiout\">Out[24]: Row(userId=&#39;51&#39;, downgraded=0, cancelled=1, visited_cancel=1, visited_downgrade=23, dailyHelpVisits=1.7142857142857142, dailyErrors=1.0, free=0, paid=1, avgThumbsUp=8.333333333333334, avgThumbsDown=2.1, numFriends=28, avgSongsTillHome=29.319444444444443, avgTimeSkipped=0.0, skipRate=0.0, label=1.0, feature_vec=DenseVector([0.0, 1.0, 23.0, 1.7143, 1.0, 0.0, 1.0, 8.3333, 2.1, 28.0, 29.3194, 0.0, 0.0]), features=DenseVector([0.0, 1.0, 0.3151, 0.2381, 0.0, 0.0, 1.0, 0.8722, 0.3667, 0.1901, 0.7032, 0.5, 0.5]))</div>",
       "datasetInfos": [],
       "metadata": {},
       "removedWidgets": [],
       "type": "html"
      }
     },
     "output_type": "display_data"
    }
   ],
   "source": [
    "data = spark.read.format(\"json\").load(\"dbfs:/FileStore/shared_uploads/e0926898@u.nus.edu/mini_sparkify_event_data.json\")\n",
    "\n",
    "df = feature_engineering(data)\n",
    "df_scaled = feature_scaling(df)\n",
    "df_scaled.collect()[0]"
   ]
  },
  {
   "cell_type": "code",
   "execution_count": 0,
   "metadata": {
    "application/vnd.databricks.v1+cell": {
     "cellMetadata": {
      "byteLimit": 2048000,
      "rowLimit": 10000
     },
     "inputWidgets": {},
     "nuid": "9b1da928-67f4-4654-860b-9909088c8e5a",
     "showTitle": false,
     "title": ""
    }
   },
   "outputs": [
    {
     "output_type": "display_data",
     "data": {
      "text/html": [
       "<style scoped>\n  .ansiout {\n    display: block;\n    unicode-bidi: embed;\n    white-space: pre-wrap;\n    word-wrap: break-word;\n    word-break: break-all;\n    font-family: \"Source Code Pro\", \"Menlo\", monospace;;\n    font-size: 13px;\n    color: #555;\n    margin-left: 4px;\n    line-height: 19px;\n  }\n</style>\n<div class=\"ansiout\"></div>"
      ]
     },
     "metadata": {
      "application/vnd.databricks.v1+output": {
       "addedWidgets": {},
       "arguments": {},
       "data": "<div class=\"ansiout\"></div>",
       "datasetInfos": [],
       "metadata": {},
       "removedWidgets": [],
       "type": "html"
      }
     },
     "output_type": "display_data"
    }
   ],
   "source": [
    "#split data for training\n",
    "train, rest = df_scaled.randomSplit([0.85, 0.15], seed=42)\n",
    "validation, test = rest.randomSplit([0.5,0.5], seed=42)"
   ]
  },
  {
   "cell_type": "markdown",
   "metadata": {
    "application/vnd.databricks.v1+cell": {
     "cellMetadata": {
      "byteLimit": 2048000,
      "rowLimit": 10000
     },
     "inputWidgets": {},
     "nuid": "92919e36-8bbd-445d-9a4c-9be840eeb671",
     "showTitle": false,
     "title": ""
    }
   },
   "source": [
    "#### 1. Logistic Regression Metrics:"
   ]
  },
  {
   "cell_type": "code",
   "execution_count": 0,
   "metadata": {
    "application/vnd.databricks.v1+cell": {
     "cellMetadata": {
      "byteLimit": 2048000,
      "rowLimit": 10000
     },
     "inputWidgets": {},
     "nuid": "f5efc5de-c8f9-482e-b8fa-0c80bbe8da91",
     "showTitle": false,
     "title": ""
    }
   },
   "outputs": [
    {
     "output_type": "display_data",
     "data": {
      "text/html": [
       "<style scoped>\n  .ansiout {\n    display: block;\n    unicode-bidi: embed;\n    white-space: pre-wrap;\n    word-wrap: break-word;\n    word-break: break-all;\n    font-family: \"Source Code Pro\", \"Menlo\", monospace;;\n    font-size: 13px;\n    color: #555;\n    margin-left: 4px;\n    line-height: 19px;\n  }\n</style>\n<div class=\"ansiout\"></div>"
      ]
     },
     "metadata": {
      "application/vnd.databricks.v1+output": {
       "addedWidgets": {},
       "arguments": {},
       "data": "<div class=\"ansiout\"></div>",
       "datasetInfos": [],
       "metadata": {},
       "removedWidgets": [],
       "type": "html"
      }
     },
     "output_type": "display_data"
    }
   ],
   "source": [
    "from pyspark.ml.classification import LogisticRegression\n",
    "from pyspark.ml.evaluation import MulticlassClassificationEvaluator\n",
    "from pyspark.ml.tuning import CrossValidator, ParamGridBuilder\n"
   ]
  },
  {
   "cell_type": "code",
   "execution_count": 0,
   "metadata": {
    "application/vnd.databricks.v1+cell": {
     "cellMetadata": {
      "byteLimit": 2048000,
      "rowLimit": 10000
     },
     "inputWidgets": {},
     "nuid": "51c4944e-ae1a-4a8c-95e9-4731cfa17e58",
     "showTitle": false,
     "title": ""
    }
   },
   "outputs": [
    {
     "output_type": "display_data",
     "data": {
      "text/html": [
       "<style scoped>\n  .ansiout {\n    display: block;\n    unicode-bidi: embed;\n    white-space: pre-wrap;\n    word-wrap: break-word;\n    word-break: break-all;\n    font-family: \"Source Code Pro\", \"Menlo\", monospace;;\n    font-size: 13px;\n    color: #555;\n    margin-left: 4px;\n    line-height: 19px;\n  }\n</style>\n<div class=\"ansiout\">Logistic Regression \n tn:5| fn:2| fp:0| tp:0\n</div>"
      ]
     },
     "metadata": {
      "application/vnd.databricks.v1+output": {
       "addedWidgets": {},
       "arguments": {},
       "data": "<div class=\"ansiout\">Logistic Regression \n | tn:5| fn:2| fp:0| tp:0\n</div>",
       "datasetInfos": [],
       "metadata": {},
       "removedWidgets": [],
       "type": "html"
      }
     },
     "output_type": "display_data"
    }
   ],
   "source": [
    "# initialize classifier, set evaluater and build paramGrid\n",
    "logReg = LogisticRegression(maxIter=10, regParam=0.3, elasticNetParam=0.8)\n",
    "lrModel = logReg.fit(train)\n",
    "lr_preds = lrModel.transform(validation)\n",
    "\n",
    "evaluation(lr_preds, 'Logistic Regression')"
   ]
  },
  {
   "cell_type": "markdown",
   "metadata": {
    "application/vnd.databricks.v1+cell": {
     "cellMetadata": {
      "byteLimit": 2048000,
      "rowLimit": 10000
     },
     "inputWidgets": {},
     "nuid": "10dcb6cd-88d0-461d-a4fe-fedec9349d9d",
     "showTitle": false,
     "title": ""
    }
   },
   "source": [
    "#### 2. Random Forest Metrics:"
   ]
  },
  {
   "cell_type": "code",
   "execution_count": 0,
   "metadata": {
    "application/vnd.databricks.v1+cell": {
     "cellMetadata": {
      "byteLimit": 2048000,
      "rowLimit": 10000
     },
     "inputWidgets": {},
     "nuid": "020197ab-1001-4291-8279-df55e9cd2b37",
     "showTitle": false,
     "title": ""
    }
   },
   "outputs": [
    {
     "output_type": "display_data",
     "data": {
      "text/html": [
       "<style scoped>\n  .ansiout {\n    display: block;\n    unicode-bidi: embed;\n    white-space: pre-wrap;\n    word-wrap: break-word;\n    word-break: break-all;\n    font-family: \"Source Code Pro\", \"Menlo\", monospace;;\n    font-size: 13px;\n    color: #555;\n    margin-left: 4px;\n    line-height: 19px;\n  }\n</style>\n<div class=\"ansiout\">Random Forest \n tn:5| fn:0| fp:0| tp:2\n</div>"
      ]
     },
     "metadata": {
      "application/vnd.databricks.v1+output": {
       "addedWidgets": {},
       "arguments": {},
       "data": "<div class=\"ansiout\">Random Forest \n | tn:5| fn:0| fp:0| tp:2\n</div>",
       "datasetInfos": [],
       "metadata": {},
       "removedWidgets": [],
       "type": "html"
      }
     },
     "output_type": "display_data"
    }
   ],
   "source": [
    "from pyspark.ml.classification import RandomForestClassifier\n",
    "\n",
    "rf = RandomForestClassifier(numTrees=10)\n",
    "rf_model = rf.fit(train)\n",
    "rf_preds = rf_model.transform(validation)\n",
    "\n",
    "evaluation(rf_preds, 'Random Forest')"
   ]
  },
  {
   "cell_type": "markdown",
   "metadata": {
    "application/vnd.databricks.v1+cell": {
     "cellMetadata": {
      "byteLimit": 2048000,
      "rowLimit": 10000
     },
     "inputWidgets": {},
     "nuid": "75e9dc51-dab8-492d-bfc5-6ed2f924af03",
     "showTitle": false,
     "title": ""
    }
   },
   "source": [
    "#### 3. Gradient Boosted Trees Metrics:"
   ]
  },
  {
   "cell_type": "code",
   "execution_count": 0,
   "metadata": {
    "application/vnd.databricks.v1+cell": {
     "cellMetadata": {
      "byteLimit": 2048000,
      "rowLimit": 10000
     },
     "inputWidgets": {},
     "nuid": "53a3eab5-14b8-483a-9510-9f835b35b0ef",
     "showTitle": false,
     "title": ""
    }
   },
   "outputs": [
    {
     "output_type": "display_data",
     "data": {
      "text/html": [
       "<style scoped>\n  .ansiout {\n    display: block;\n    unicode-bidi: embed;\n    white-space: pre-wrap;\n    word-wrap: break-word;\n    word-break: break-all;\n    font-family: \"Source Code Pro\", \"Menlo\", monospace;;\n    font-size: 13px;\n    color: #555;\n    margin-left: 4px;\n    line-height: 19px;\n  }\n</style>\n<div class=\"ansiout\">Gradient Boosted Trees \n tn:5| fn:0| fp:0| tp:2\n</div>"
      ]
     },
     "metadata": {
      "application/vnd.databricks.v1+output": {
       "addedWidgets": {},
       "arguments": {},
       "data": "<div class=\"ansiout\">Gradient Boosted Trees \n | tn:5| fn:0| fp:0| tp:2\n</div>",
       "datasetInfos": [],
       "metadata": {},
       "removedWidgets": [],
       "type": "html"
      }
     },
     "output_type": "display_data"
    }
   ],
   "source": [
    "from pyspark.ml.classification import GBTClassifier\n",
    "\n",
    "gbtrees = GBTClassifier(maxIter=10, seed =42)\n",
    "gbtree_model = gbtrees.fit(train)\n",
    "gbtree_preds = gbtree_model.transform(validation)\n",
    "\n",
    "evaluation(gbtree_preds, 'Gradient Boosted Trees')"
   ]
  },
  {
   "cell_type": "markdown",
   "metadata": {
    "application/vnd.databricks.v1+cell": {
     "cellMetadata": {
      "byteLimit": 2048000,
      "rowLimit": 10000
     },
     "inputWidgets": {},
     "nuid": "b5be1040-5899-4df2-bfe9-41b259ffdfa4",
     "showTitle": false,
     "title": ""
    }
   },
   "source": [
    "#### Comparison"
   ]
  },
  {
   "cell_type": "code",
   "execution_count": 0,
   "metadata": {
    "application/vnd.databricks.v1+cell": {
     "cellMetadata": {
      "byteLimit": 2048000,
      "rowLimit": 10000
     },
     "inputWidgets": {},
     "nuid": "a249c2e3-4893-4d76-9d48-fada0b33e018",
     "showTitle": false,
     "title": ""
    }
   },
   "outputs": [
    {
     "output_type": "display_data",
     "data": {
      "text/html": [
       "<style scoped>\n  .ansiout {\n    display: block;\n    unicode-bidi: embed;\n    white-space: pre-wrap;\n    word-wrap: break-word;\n    word-break: break-all;\n    font-family: \"Source Code Pro\", \"Menlo\", monospace;;\n    font-size: 13px;\n    color: #555;\n    margin-left: 4px;\n    line-height: 19px;\n  }\n</style>\n<div class=\"ansiout\">+--------------------+--------------------+----------+-----+\n            features|       rawPrediction|prediction|label|\n+--------------------+--------------------+----------+-----+\n[0.33333333333333...|[0.33684053000255...|       0.0|  1.0|\n[0.0,0.0,0.287671...|[1.88795217084495...|       0.0|  0.0|\n[0.66666666666666...|[1.88795217084495...|       0.0|  0.0|\n[0.0,0.0,0.027397...|[1.88795217084495...|       0.0|  0.0|\n[0.0,0.0,0.287671...|[1.88795217084495...|       0.0|  0.0|\n[0.0,1.0,0.013698...|[0.33684053000255...|       0.0|  1.0|\n[0.33333333333333...|[1.88795217084495...|       0.0|  0.0|\n+--------------------+--------------------+----------+-----+\n\n+--------------------+--------------------+----------+-----+\n            features|       rawPrediction|prediction|label|\n+--------------------+--------------------+----------+-----+\n[0.33333333333333...|[-1.3259026792203...|       1.0|  1.0|\n[0.0,0.0,0.287671...|[1.32590267922033...|       0.0|  0.0|\n[0.66666666666666...|[1.32590267922033...|       0.0|  0.0|\n[0.0,0.0,0.027397...|[1.32590267922033...|       0.0|  0.0|\n[0.0,0.0,0.287671...|[1.32590267922033...|       0.0|  0.0|\n[0.0,1.0,0.013698...|[-1.3259026792203...|       1.0|  1.0|\n[0.33333333333333...|[1.32590267922033...|       0.0|  0.0|\n+--------------------+--------------------+----------+-----+\n\n+--------------------+-------------+----------+-----+\n            features|rawPrediction|prediction|label|\n+--------------------+-------------+----------+-----+\n[0.33333333333333...|    [1.0,9.0]|       1.0|  1.0|\n[0.0,0.0,0.287671...|   [10.0,0.0]|       0.0|  0.0|\n[0.66666666666666...|   [10.0,0.0]|       0.0|  0.0|\n[0.0,0.0,0.027397...|    [9.0,1.0]|       0.0|  0.0|\n[0.0,0.0,0.287671...|   [10.0,0.0]|       0.0|  0.0|\n[0.0,1.0,0.013698...|    [1.0,9.0]|       1.0|  1.0|\n[0.33333333333333...|   [10.0,0.0]|       0.0|  0.0|\n+--------------------+-------------+----------+-----+\n\n</div>"
      ]
     },
     "metadata": {
      "application/vnd.databricks.v1+output": {
       "addedWidgets": {},
       "arguments": {},
       "data": "<div class=\"ansiout\">+--------------------+--------------------+----------+-----+\n|            features|       rawPrediction|prediction|label|\n+--------------------+--------------------+----------+-----+\n|[0.33333333333333...|[0.33684053000255...|       0.0|  1.0|\n|[0.0,0.0,0.287671...|[1.88795217084495...|       0.0|  0.0|\n|[0.66666666666666...|[1.88795217084495...|       0.0|  0.0|\n|[0.0,0.0,0.027397...|[1.88795217084495...|       0.0|  0.0|\n|[0.0,0.0,0.287671...|[1.88795217084495...|       0.0|  0.0|\n|[0.0,1.0,0.013698...|[0.33684053000255...|       0.0|  1.0|\n|[0.33333333333333...|[1.88795217084495...|       0.0|  0.0|\n+--------------------+--------------------+----------+-----+\n\n+--------------------+--------------------+----------+-----+\n|            features|       rawPrediction|prediction|label|\n+--------------------+--------------------+----------+-----+\n|[0.33333333333333...|[-1.3259026792203...|       1.0|  1.0|\n|[0.0,0.0,0.287671...|[1.32590267922033...|       0.0|  0.0|\n|[0.66666666666666...|[1.32590267922033...|       0.0|  0.0|\n|[0.0,0.0,0.027397...|[1.32590267922033...|       0.0|  0.0|\n|[0.0,0.0,0.287671...|[1.32590267922033...|       0.0|  0.0|\n|[0.0,1.0,0.013698...|[-1.3259026792203...|       1.0|  1.0|\n|[0.33333333333333...|[1.32590267922033...|       0.0|  0.0|\n+--------------------+--------------------+----------+-----+\n\n+--------------------+-------------+----------+-----+\n|            features|rawPrediction|prediction|label|\n+--------------------+-------------+----------+-----+\n|[0.33333333333333...|    [1.0,9.0]|       1.0|  1.0|\n|[0.0,0.0,0.287671...|   [10.0,0.0]|       0.0|  0.0|\n|[0.66666666666666...|   [10.0,0.0]|       0.0|  0.0|\n|[0.0,0.0,0.027397...|    [9.0,1.0]|       0.0|  0.0|\n|[0.0,0.0,0.287671...|   [10.0,0.0]|       0.0|  0.0|\n|[0.0,1.0,0.013698...|    [1.0,9.0]|       1.0|  1.0|\n|[0.33333333333333...|   [10.0,0.0]|       0.0|  0.0|\n+--------------------+-------------+----------+-----+\n\n</div>",
       "datasetInfos": [],
       "metadata": {},
       "removedWidgets": [],
       "type": "html"
      }
     },
     "output_type": "display_data"
    }
   ],
   "source": [
    "#visual check for predictions\n",
    "for x in [lr_preds, gbtree_preds, rf_preds]:\n",
    "    x.select('features', 'rawPrediction', 'prediction', 'label').show(20)"
   ]
  }
 ],
 "metadata": {
  "application/vnd.databricks.v1+notebook": {
   "dashboards": [],
   "language": "python",
   "notebookMetadata": {
    "mostRecentlyExecutedCommandWithImplicitDF": {
     "commandId": 1598374372112662,
     "dataframes": [
      "_sqldf"
     ]
    },
    "pythonIndentUnit": 4
   },
   "notebookName": "Sparkify_Churn",
   "notebookOrigID": 1598374372112652,
   "widgets": {}
  }
 },
 "nbformat": 4,
 "nbformat_minor": 0
}
